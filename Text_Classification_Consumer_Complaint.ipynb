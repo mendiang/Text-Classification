{
  "nbformat": 4,
  "nbformat_minor": 0,
  "metadata": {
    "colab": {
      "name": "Text Classification Consumer Complaint.ipynb",
      "provenance": [],
      "toc_visible": true,
      "authorship_tag": "ABX9TyMUx1HY857ZWPnaWIK+lCHH",
      "include_colab_link": true
    },
    "kernelspec": {
      "name": "python3",
      "display_name": "Python 3"
    },
    "language_info": {
      "name": "python"
    }
  },
  "cells": [
    {
      "cell_type": "markdown",
      "metadata": {
        "id": "view-in-github",
        "colab_type": "text"
      },
      "source": [
        "<a href=\"https://colab.research.google.com/github/mendiang/Text-Classification/blob/main/Text_Classification_Consumer_Complaint.ipynb\" target=\"_parent\"><img src=\"https://colab.research.google.com/assets/colab-badge.svg\" alt=\"Open In Colab\"/></a>"
      ]
    },
    {
      "cell_type": "markdown",
      "metadata": {
        "id": "aUEtwNEv28sB"
      },
      "source": [
        "#1. Explanation about consumer complain dataset"
      ]
    },
    {
      "cell_type": "markdown",
      "metadata": {
        "id": "E86CsLCU3KxQ"
      },
      "source": [
        "Data: Consumer complaints received about financial products and services\n",
        "Data source: Public dataset downloaded from https://catalog.data.gov/dataset/consumer-complaint-database on 2019, May 13.\n",
        "\n",
        "These are real world complaints received about financial products and services. Each complaint has been labeled with a specific product; therefore, this is a supervised text classification problem. With the aim to classify future complaints based on its content, we used different machine learning algorithms can make more accurate predictions (i.e., classify the complaint in one of the product categories)."
      ]
    },
    {
      "cell_type": "markdown",
      "metadata": {
        "id": "NHxtubIy3gps"
      },
      "source": [
        "#2. Objective"
      ]
    },
    {
      "cell_type": "markdown",
      "metadata": {
        "id": "jCu9FjxK3tC7"
      },
      "source": [
        "Classify consumer complaints into predefined categories.\n",
        "\n",
        "Classification algorithms: Linear Support Vector Machine (LinearSVM), Random Forest, Multinomial Naive Bayes and Logistic Regression.\n",
        "\n",
        "Note: Text classification is an example of supervised machine learning since we train the model with labelled data (complaints about and specific finance product is used for train a classifier."
      ]
    },
    {
      "cell_type": "markdown",
      "metadata": {
        "id": "2XHSzev65F49"
      },
      "source": [
        "#3. Set Up Kaggle API"
      ]
    },
    {
      "cell_type": "code",
      "metadata": {
        "colab": {
          "resources": {
            "http://localhost:8080/nbextensions/google.colab/files.js": {
              "data": "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",
              "ok": true,
              "headers": [
                [
                  "content-type",
                  "application/javascript"
                ]
              ],
              "status": 200,
              "status_text": ""
            }
          },
          "base_uri": "https://localhost:8080/",
          "height": 89
        },
        "id": "UoHrEa3l18Vw",
        "outputId": "25b91a30-8ade-4d9c-9ab4-3300fb0bde98"
      },
      "source": [
        "# Run this cell and select the kaggle.json file downloaded\n",
        "# from the Kaggle account settings page.\n",
        "from google.colab import files\n",
        "files.upload()"
      ],
      "execution_count": 1,
      "outputs": [
        {
          "output_type": "display_data",
          "data": {
            "text/html": [
              "\n",
              "     <input type=\"file\" id=\"files-f3ee8860-6171-4c1a-8c65-acc47f5c88f0\" name=\"files[]\" multiple disabled\n",
              "        style=\"border:none\" />\n",
              "     <output id=\"result-f3ee8860-6171-4c1a-8c65-acc47f5c88f0\">\n",
              "      Upload widget is only available when the cell has been executed in the\n",
              "      current browser session. Please rerun this cell to enable.\n",
              "      </output>\n",
              "      <script src=\"/nbextensions/google.colab/files.js\"></script> "
            ],
            "text/plain": [
              "<IPython.core.display.HTML object>"
            ]
          },
          "metadata": {
            "tags": []
          }
        },
        {
          "output_type": "stream",
          "text": [
            "Saving kaggle.json to kaggle.json\n"
          ],
          "name": "stdout"
        },
        {
          "output_type": "execute_result",
          "data": {
            "text/plain": [
              "{'kaggle.json': b'{\"username\":\"imammukhri\",\"key\":\"eb9766ded639cf23df08187c5e57f8e0\"}'}"
            ]
          },
          "metadata": {
            "tags": []
          },
          "execution_count": 1
        }
      ]
    },
    {
      "cell_type": "code",
      "metadata": {
        "colab": {
          "base_uri": "https://localhost:8080/"
        },
        "id": "5aNlIKZA2jDE",
        "outputId": "80298c5e-418e-469a-b1d2-92c8311dcf8d"
      },
      "source": [
        "# Let's make sure the kaggle.json file is present.\n",
        "!ls -lha kaggle.json"
      ],
      "execution_count": 2,
      "outputs": [
        {
          "output_type": "stream",
          "text": [
            "-rw-r--r-- 1 root root 66 Aug  1 14:36 kaggle.json\n"
          ],
          "name": "stdout"
        }
      ]
    },
    {
      "cell_type": "code",
      "metadata": {
        "id": "W4_NPx3N2k-Q"
      },
      "source": [
        "# Next, install the Kaggle API client.\n",
        "!pip install -q kaggle"
      ],
      "execution_count": 3,
      "outputs": []
    },
    {
      "cell_type": "code",
      "metadata": {
        "id": "Wd7peCHI2mzg"
      },
      "source": [
        "# The Kaggle API client expects this file to be in ~/.kaggle,\n",
        "# so move it there.\n",
        "!mkdir -p ~/.kaggle\n",
        "!cp kaggle.json ~/.kaggle/\n",
        "\n",
        "# This permissions change avoids a warning on Kaggle tool startup.\n",
        "!chmod 600 ~/.kaggle/kaggle.json"
      ],
      "execution_count": 4,
      "outputs": []
    },
    {
      "cell_type": "markdown",
      "metadata": {
        "id": "s9uXzZ0t6Htr"
      },
      "source": [
        "#4. Importing library and loading data "
      ]
    },
    {
      "cell_type": "code",
      "metadata": {
        "id": "T2R63cZg6ttT"
      },
      "source": [
        "import pandas as pd\n",
        "import matplotlib.pyplot as plt\n",
        "import numpy as np\n",
        "import seaborn as sns\n",
        "\n",
        "from sklearn.feature_extraction.text import TfidfVectorizer\n",
        "from sklearn.feature_selection import chi2\n",
        "from sklearn.naive_bayes import MultinomialNB\n",
        "from sklearn.linear_model import LogisticRegression\n",
        "from sklearn.ensemble import RandomForestClassifier\n",
        "from sklearn.svm import LinearSVC\n",
        "from sklearn.model_selection import cross_val_score\n",
        "from sklearn import metrics\n",
        "from sklearn.metrics import confusion_matrix"
      ],
      "execution_count": 52,
      "outputs": []
    },
    {
      "cell_type": "code",
      "metadata": {
        "colab": {
          "base_uri": "https://localhost:8080/"
        },
        "id": "d3wY5skD2ozX",
        "outputId": "202894d6-471a-4a10-d224-c008bcd4b7e5"
      },
      "source": [
        "!kaggle datasets download -d selener/consumer-complaint-database"
      ],
      "execution_count": 6,
      "outputs": [
        {
          "output_type": "stream",
          "text": [
            "Downloading consumer-complaint-database.zip to /content\n",
            " 93% 163M/176M [00:01<00:00, 107MB/s] \n",
            "100% 176M/176M [00:01<00:00, 104MB/s]\n"
          ],
          "name": "stdout"
        }
      ]
    },
    {
      "cell_type": "code",
      "metadata": {
        "colab": {
          "base_uri": "https://localhost:8080/"
        },
        "id": "kSMfYHLH7PuO",
        "outputId": "1e23587f-14df-4d2f-94af-22a13d0f3f39"
      },
      "source": [
        "!unzip /content/consumer-complaint-database.zip"
      ],
      "execution_count": 7,
      "outputs": [
        {
          "output_type": "stream",
          "text": [
            "Archive:  /content/consumer-complaint-database.zip\n",
            "  inflating: rows.csv                \n"
          ],
          "name": "stdout"
        }
      ]
    },
    {
      "cell_type": "code",
      "metadata": {
        "colab": {
          "base_uri": "https://localhost:8080/"
        },
        "id": "AcAABNhv57bS",
        "outputId": "cb8df8a1-7372-40b7-f62c-f71b3ab085bd"
      },
      "source": [
        "# loading data\n",
        "df = pd.read_csv('/content/rows.csv')\n",
        "df.shape"
      ],
      "execution_count": 8,
      "outputs": [
        {
          "output_type": "stream",
          "text": [
            "/usr/local/lib/python3.7/dist-packages/IPython/core/interactiveshell.py:2718: DtypeWarning: Columns (4,5,6,11,16) have mixed types.Specify dtype option on import or set low_memory=False.\n",
            "  interactivity=interactivity, compiler=compiler, result=result)\n"
          ],
          "name": "stderr"
        },
        {
          "output_type": "execute_result",
          "data": {
            "text/plain": [
              "(1282355, 18)"
            ]
          },
          "metadata": {
            "tags": []
          },
          "execution_count": 8
        }
      ]
    },
    {
      "cell_type": "markdown",
      "metadata": {
        "id": "wlnUC1Er6b8Y"
      },
      "source": [
        "#5. Exploratory Data Analysis (EDA) and Feature Engineering"
      ]
    },
    {
      "cell_type": "code",
      "metadata": {
        "colab": {
          "base_uri": "https://localhost:8080/",
          "height": 301
        },
        "id": "pBbMblMF6dlT",
        "outputId": "d9a87ff4-2da5-431a-9ed0-62199851bdd5"
      },
      "source": [
        "df.head(2) # Columns are shown in rows for easy reading"
      ],
      "execution_count": 9,
      "outputs": [
        {
          "output_type": "execute_result",
          "data": {
            "text/html": [
              "<div>\n",
              "<style scoped>\n",
              "    .dataframe tbody tr th:only-of-type {\n",
              "        vertical-align: middle;\n",
              "    }\n",
              "\n",
              "    .dataframe tbody tr th {\n",
              "        vertical-align: top;\n",
              "    }\n",
              "\n",
              "    .dataframe thead th {\n",
              "        text-align: right;\n",
              "    }\n",
              "</style>\n",
              "<table border=\"1\" class=\"dataframe\">\n",
              "  <thead>\n",
              "    <tr style=\"text-align: right;\">\n",
              "      <th></th>\n",
              "      <th>Date received</th>\n",
              "      <th>Product</th>\n",
              "      <th>Sub-product</th>\n",
              "      <th>Issue</th>\n",
              "      <th>Sub-issue</th>\n",
              "      <th>Consumer complaint narrative</th>\n",
              "      <th>Company public response</th>\n",
              "      <th>Company</th>\n",
              "      <th>State</th>\n",
              "      <th>ZIP code</th>\n",
              "      <th>Tags</th>\n",
              "      <th>Consumer consent provided?</th>\n",
              "      <th>Submitted via</th>\n",
              "      <th>Date sent to company</th>\n",
              "      <th>Company response to consumer</th>\n",
              "      <th>Timely response?</th>\n",
              "      <th>Consumer disputed?</th>\n",
              "      <th>Complaint ID</th>\n",
              "    </tr>\n",
              "  </thead>\n",
              "  <tbody>\n",
              "    <tr>\n",
              "      <th>0</th>\n",
              "      <td>05/10/2019</td>\n",
              "      <td>Checking or savings account</td>\n",
              "      <td>Checking account</td>\n",
              "      <td>Managing an account</td>\n",
              "      <td>Problem using a debit or ATM card</td>\n",
              "      <td>NaN</td>\n",
              "      <td>NaN</td>\n",
              "      <td>NAVY FEDERAL CREDIT UNION</td>\n",
              "      <td>FL</td>\n",
              "      <td>328XX</td>\n",
              "      <td>Older American</td>\n",
              "      <td>NaN</td>\n",
              "      <td>Web</td>\n",
              "      <td>05/10/2019</td>\n",
              "      <td>In progress</td>\n",
              "      <td>Yes</td>\n",
              "      <td>NaN</td>\n",
              "      <td>3238275</td>\n",
              "    </tr>\n",
              "    <tr>\n",
              "      <th>1</th>\n",
              "      <td>05/10/2019</td>\n",
              "      <td>Checking or savings account</td>\n",
              "      <td>Other banking product or service</td>\n",
              "      <td>Managing an account</td>\n",
              "      <td>Deposits and withdrawals</td>\n",
              "      <td>NaN</td>\n",
              "      <td>NaN</td>\n",
              "      <td>BOEING EMPLOYEES CREDIT UNION</td>\n",
              "      <td>WA</td>\n",
              "      <td>98204</td>\n",
              "      <td>NaN</td>\n",
              "      <td>NaN</td>\n",
              "      <td>Referral</td>\n",
              "      <td>05/10/2019</td>\n",
              "      <td>Closed with explanation</td>\n",
              "      <td>Yes</td>\n",
              "      <td>NaN</td>\n",
              "      <td>3238228</td>\n",
              "    </tr>\n",
              "  </tbody>\n",
              "</table>\n",
              "</div>"
            ],
            "text/plain": [
              "  Date received                      Product  ... Consumer disputed? Complaint ID\n",
              "0    05/10/2019  Checking or savings account  ...                NaN      3238275\n",
              "1    05/10/2019  Checking or savings account  ...                NaN      3238228\n",
              "\n",
              "[2 rows x 18 columns]"
            ]
          },
          "metadata": {
            "tags": []
          },
          "execution_count": 9
        }
      ]
    },
    {
      "cell_type": "code",
      "metadata": {
        "colab": {
          "base_uri": "https://localhost:8080/",
          "height": 607
        },
        "id": "jUuz2a4h7j6L",
        "outputId": "24fa78ff-b7fc-4f00-c452-624e5fe37528"
      },
      "source": [
        "df.head(2).T # Columns are shown in rows for easy reading"
      ],
      "execution_count": 42,
      "outputs": [
        {
          "output_type": "execute_result",
          "data": {
            "text/html": [
              "<div>\n",
              "<style scoped>\n",
              "    .dataframe tbody tr th:only-of-type {\n",
              "        vertical-align: middle;\n",
              "    }\n",
              "\n",
              "    .dataframe tbody tr th {\n",
              "        vertical-align: top;\n",
              "    }\n",
              "\n",
              "    .dataframe thead th {\n",
              "        text-align: right;\n",
              "    }\n",
              "</style>\n",
              "<table border=\"1\" class=\"dataframe\">\n",
              "  <thead>\n",
              "    <tr style=\"text-align: right;\">\n",
              "      <th></th>\n",
              "      <th>0</th>\n",
              "      <th>1</th>\n",
              "    </tr>\n",
              "  </thead>\n",
              "  <tbody>\n",
              "    <tr>\n",
              "      <th>Date_Received</th>\n",
              "      <td>05/10/2019</td>\n",
              "      <td>05/10/2019</td>\n",
              "    </tr>\n",
              "    <tr>\n",
              "      <th>Product</th>\n",
              "      <td>Checking or savings account</td>\n",
              "      <td>Checking or savings account</td>\n",
              "    </tr>\n",
              "    <tr>\n",
              "      <th>Sub_Product</th>\n",
              "      <td>Checking account</td>\n",
              "      <td>Other banking product or service</td>\n",
              "    </tr>\n",
              "    <tr>\n",
              "      <th>Issue</th>\n",
              "      <td>Managing an account</td>\n",
              "      <td>Managing an account</td>\n",
              "    </tr>\n",
              "    <tr>\n",
              "      <th>Sub_Issue</th>\n",
              "      <td>Problem using a debit or ATM card</td>\n",
              "      <td>Deposits and withdrawals</td>\n",
              "    </tr>\n",
              "    <tr>\n",
              "      <th>Consumer_Complaint</th>\n",
              "      <td>NaN</td>\n",
              "      <td>NaN</td>\n",
              "    </tr>\n",
              "    <tr>\n",
              "      <th>Response</th>\n",
              "      <td>NaN</td>\n",
              "      <td>NaN</td>\n",
              "    </tr>\n",
              "    <tr>\n",
              "      <th>Company</th>\n",
              "      <td>NAVY FEDERAL CREDIT UNION</td>\n",
              "      <td>BOEING EMPLOYEES CREDIT UNION</td>\n",
              "    </tr>\n",
              "    <tr>\n",
              "      <th>State</th>\n",
              "      <td>FL</td>\n",
              "      <td>WA</td>\n",
              "    </tr>\n",
              "    <tr>\n",
              "      <th>Zip_Code</th>\n",
              "      <td>328XX</td>\n",
              "      <td>98204</td>\n",
              "    </tr>\n",
              "    <tr>\n",
              "      <th>Tags</th>\n",
              "      <td>Older American</td>\n",
              "      <td>NaN</td>\n",
              "    </tr>\n",
              "    <tr>\n",
              "      <th>Consumer_Consent_Provided?</th>\n",
              "      <td>NaN</td>\n",
              "      <td>NaN</td>\n",
              "    </tr>\n",
              "    <tr>\n",
              "      <th>Submitted_Via</th>\n",
              "      <td>Web</td>\n",
              "      <td>Referral</td>\n",
              "    </tr>\n",
              "    <tr>\n",
              "      <th>Date_Sent_To_Company</th>\n",
              "      <td>05/10/2019</td>\n",
              "      <td>05/10/2019</td>\n",
              "    </tr>\n",
              "    <tr>\n",
              "      <th>Company_Response_To_Consumer</th>\n",
              "      <td>In progress</td>\n",
              "      <td>Closed with explanation</td>\n",
              "    </tr>\n",
              "    <tr>\n",
              "      <th>Timely_Response?</th>\n",
              "      <td>Yes</td>\n",
              "      <td>Yes</td>\n",
              "    </tr>\n",
              "    <tr>\n",
              "      <th>Consumer_Disputed?</th>\n",
              "      <td>NaN</td>\n",
              "      <td>NaN</td>\n",
              "    </tr>\n",
              "    <tr>\n",
              "      <th>Complaint_Id</th>\n",
              "      <td>3238275</td>\n",
              "      <td>3238228</td>\n",
              "    </tr>\n",
              "  </tbody>\n",
              "</table>\n",
              "</div>"
            ],
            "text/plain": [
              "                                                              0                                 1\n",
              "Date_Received                                        05/10/2019                        05/10/2019\n",
              "Product                             Checking or savings account       Checking or savings account\n",
              "Sub_Product                                    Checking account  Other banking product or service\n",
              "Issue                                       Managing an account               Managing an account\n",
              "Sub_Issue                     Problem using a debit or ATM card          Deposits and withdrawals\n",
              "Consumer_Complaint                                          NaN                               NaN\n",
              "Response                                                    NaN                               NaN\n",
              "Company                               NAVY FEDERAL CREDIT UNION     BOEING EMPLOYEES CREDIT UNION\n",
              "State                                                        FL                                WA\n",
              "Zip_Code                                                  328XX                             98204\n",
              "Tags                                             Older American                               NaN\n",
              "Consumer_Consent_Provided?                                  NaN                               NaN\n",
              "Submitted_Via                                               Web                          Referral\n",
              "Date_Sent_To_Company                                 05/10/2019                        05/10/2019\n",
              "Company_Response_To_Consumer                        In progress           Closed with explanation\n",
              "Timely_Response?                                            Yes                               Yes\n",
              "Consumer_Disputed?                                          NaN                               NaN\n",
              "Complaint_Id                                            3238275                           3238228"
            ]
          },
          "metadata": {
            "tags": []
          },
          "execution_count": 42
        }
      ]
    },
    {
      "cell_type": "code",
      "metadata": {
        "colab": {
          "base_uri": "https://localhost:8080/"
        },
        "id": "tMKGt59_Bbhb",
        "outputId": "35179f59-e84f-4432-bb72-8938b2d8168a"
      },
      "source": [
        "print(\"Number of dimensions in dataset : \", df.ndim)\n",
        "print(\"Dimensions of dataset : \", df.shape)\n",
        "print(\"Number of Features in the dataset: \", len(df.columns))\n",
        "print(\"List of features in the dataset: \")\n",
        "for i in range(len(df.columns)):\n",
        "    print(end = \"\\t\")\n",
        "    print(str(i + 1)+\". \"+df.columns[i])\n",
        "    \n",
        "print(\"\\nNumber of elements in each feature of dataset:\")\n",
        "print(df.count()) #To get an idea if there are missing values.\n",
        "print(\"\\n\\nCount of NaN values in each column:\\n \")\n",
        "print(df.isna().sum())  #Counting number of missing values in each column"
      ],
      "execution_count": 11,
      "outputs": [
        {
          "output_type": "stream",
          "text": [
            "Number of dimensions in dataset :  2\n",
            "Dimensions of dataset :  (1282355, 18)\n",
            "Number of Features in the dataset:  18\n",
            "List of features in the dataset: \n",
            "\t1. Date received\n",
            "\t2. Product\n",
            "\t3. Sub-product\n",
            "\t4. Issue\n",
            "\t5. Sub-issue\n",
            "\t6. Consumer complaint narrative\n",
            "\t7. Company public response\n",
            "\t8. Company\n",
            "\t9. State\n",
            "\t10. ZIP code\n",
            "\t11. Tags\n",
            "\t12. Consumer consent provided?\n",
            "\t13. Submitted via\n",
            "\t14. Date sent to company\n",
            "\t15. Company response to consumer\n",
            "\t16. Timely response?\n",
            "\t17. Consumer disputed?\n",
            "\t18. Complaint ID\n",
            "Number of elements in each feature of dataset:\n",
            "\n",
            "Date received                   1282355\n",
            "Product                         1282355\n",
            "Sub-product                     1047189\n",
            "Issue                           1282355\n",
            "Sub-issue                        751169\n",
            "Consumer complaint narrative     383564\n",
            "Company public response          449082\n",
            "Company                         1282355\n",
            "State                           1262955\n",
            "ZIP code                        1167057\n",
            "Tags                             175643\n",
            "Consumer consent provided?       690654\n",
            "Submitted via                   1282355\n",
            "Date sent to company            1282355\n",
            "Company response to consumer    1282348\n",
            "Timely response?                1282355\n",
            "Consumer disputed?               768501\n",
            "Complaint ID                    1282355\n",
            "dtype: int64\n",
            "\n",
            "\n",
            "Count of NaN values in each column:\n",
            " \n",
            "Date received                         0\n",
            "Product                               0\n",
            "Sub-product                      235166\n",
            "Issue                                 0\n",
            "Sub-issue                        531186\n",
            "Consumer complaint narrative     898791\n",
            "Company public response          833273\n",
            "Company                               0\n",
            "State                             19400\n",
            "ZIP code                         115298\n",
            "Tags                            1106712\n",
            "Consumer consent provided?       591701\n",
            "Submitted via                         0\n",
            "Date sent to company                  0\n",
            "Company response to consumer          7\n",
            "Timely response?                      0\n",
            "Consumer disputed?               513854\n",
            "Complaint ID                          0\n",
            "dtype: int64\n"
          ],
          "name": "stdout"
        }
      ]
    },
    {
      "cell_type": "code",
      "metadata": {
        "colab": {
          "base_uri": "https://localhost:8080/"
        },
        "id": "0nEXTUlqDBBi",
        "outputId": "66bd36d2-5f65-4947-c251-ac5da424253c"
      },
      "source": [
        "# Renaming Columns\n",
        "\n",
        "df.columns = [col.strip() for col in df.columns]\n",
        "df.columns = [col.replace('-',\"_\") for col in df.columns]\n",
        "df.columns = [col.replace(' ',\"_\") for col in df.columns]\n",
        "df.columns = [col.title() for col in df.columns]\n",
        "\n",
        "df.rename(columns = {'Consumer_Complaint_Narrative':'Consumer_Complaint', 'Company_Public_Response':'Response'}, inplace = True)\n",
        "print(df.columns)"
      ],
      "execution_count": 12,
      "outputs": [
        {
          "output_type": "stream",
          "text": [
            "Index(['Date_Received', 'Product', 'Sub_Product', 'Issue', 'Sub_Issue',\n",
            "       'Consumer_Complaint', 'Response', 'Company', 'State', 'Zip_Code',\n",
            "       'Tags', 'Consumer_Consent_Provided?', 'Submitted_Via',\n",
            "       'Date_Sent_To_Company', 'Company_Response_To_Consumer',\n",
            "       'Timely_Response?', 'Consumer_Disputed?', 'Complaint_Id'],\n",
            "      dtype='object')\n"
          ],
          "name": "stdout"
        }
      ]
    },
    {
      "cell_type": "code",
      "metadata": {
        "colab": {
          "base_uri": "https://localhost:8080/"
        },
        "id": "ZnSMaX057qzU",
        "outputId": "46046a58-0f33-40ab-8801-993ecadd6315"
      },
      "source": [
        "# Create a new dataframe with two columns\n",
        "df1 = df[['Product', 'Consumer_Complaint']].copy()\n",
        "\n",
        "# Remove missing values (NaN)\n",
        "df1 = df1[pd.notnull(df1['Consumer_Complaint'])]\n",
        "\n",
        "df1.shape"
      ],
      "execution_count": 14,
      "outputs": [
        {
          "output_type": "execute_result",
          "data": {
            "text/plain": [
              "(383564, 2)"
            ]
          },
          "metadata": {
            "tags": []
          },
          "execution_count": 14
        }
      ]
    },
    {
      "cell_type": "code",
      "metadata": {
        "colab": {
          "base_uri": "https://localhost:8080/"
        },
        "id": "pcRViYcC9f6H",
        "outputId": "4ac614cf-c63f-4727-9418-1866ac4c5578"
      },
      "source": [
        "# Percentage of complaints with text\n",
        "total = df1['Consumer_Complaint'].notnull().sum()\n",
        "round((total/len(df)*100),1)"
      ],
      "execution_count": 16,
      "outputs": [
        {
          "output_type": "execute_result",
          "data": {
            "text/plain": [
              "29.9"
            ]
          },
          "metadata": {
            "tags": []
          },
          "execution_count": 16
        }
      ]
    },
    {
      "cell_type": "markdown",
      "metadata": {
        "id": "O9dpj1LH9t7h"
      },
      "source": [
        "From more than 1 million complaints, there are about 380,000 cases with text (~ 30% of the original dataset is not null). This is still a good number to work with. Now let's have a look at the categories we want to classify each complaint."
      ]
    },
    {
      "cell_type": "code",
      "metadata": {
        "colab": {
          "base_uri": "https://localhost:8080/"
        },
        "id": "nuuLHUrk9n77",
        "outputId": "d15c9415-1708-4015-eeb3-2d5043488631"
      },
      "source": [
        "unique_ele = pd.DataFrame(df.Product.unique()).values\n",
        "print(\"Number of unique elements in Product : \", len(unique_ele))\n",
        "print(\"\\nUnique elements in Product :\")\n",
        "print(unique_ele)"
      ],
      "execution_count": 17,
      "outputs": [
        {
          "output_type": "stream",
          "text": [
            "Number of unique elements in Product :  18\n",
            "\n",
            "Unique elements in Product :\n",
            "[['Checking or savings account']\n",
            " ['Debt collection']\n",
            " ['Credit reporting, credit repair services, or other personal consumer reports']\n",
            " ['Mortgage']\n",
            " ['Student loan']\n",
            " ['Vehicle loan or lease']\n",
            " ['Credit card or prepaid card']\n",
            " ['Payday loan, title loan, or personal loan']\n",
            " ['Money transfer, virtual currency, or money service']\n",
            " ['Credit reporting']\n",
            " ['Credit card']\n",
            " ['Bank account or service']\n",
            " ['Consumer Loan']\n",
            " ['Prepaid card']\n",
            " ['Other financial service']\n",
            " ['Payday loan']\n",
            " ['Money transfers']\n",
            " ['Virtual currency']]\n"
          ],
          "name": "stdout"
        }
      ]
    },
    {
      "cell_type": "markdown",
      "metadata": {
        "id": "fOh1U9bJ_81c"
      },
      "source": [
        "There are 18 different classes or categories (target). However; it is observed that some classes are contained in others. For instance, ‘Credit card’ and ‘Prepaid card’ are contained in ‘Credit card or prepaid card’ category. Now, imagine there is a new complaint about Credit card and we want to classify it. The algorithm can either classify this complaint as 'Credit card' or 'Credit card or prepaid' and it would be correct. Nevertheless, this would affect model performance. In order to avoid this problem, the names of some categories were renamed."
      ]
    },
    {
      "cell_type": "code",
      "metadata": {
        "id": "Tpyf6N7x90CR"
      },
      "source": [
        "# Because the computation is time consuming (in terms of CPU), the data was sampled\n",
        "df2 = df1.sample(10000, random_state=1).copy()"
      ],
      "execution_count": 18,
      "outputs": []
    },
    {
      "cell_type": "code",
      "metadata": {
        "id": "cYDW_CUEAKAU"
      },
      "source": [
        "# Renaming categories\n",
        "df2.replace({'Product': \n",
        "            {'Credit reporting, credit repair services, or other personal consumer reports': \n",
        "             'Credit reporting, repair, or other', \n",
        "             'Credit reporting': 'Credit reporting, repair, or other',\n",
        "             'Credit card': 'Credit card or prepaid card',\n",
        "             'Prepaid card': 'Credit card or prepaid card',\n",
        "             'Payday loan': 'Payday loan, title loan, or personal loan',\n",
        "             'Money transfer': 'Money transfer, virtual currency, or money service',\n",
        "             'Virtual currency': 'Money transfer, virtual currency, or money service'}}, \n",
        "             inplace= True)"
      ],
      "execution_count": 19,
      "outputs": []
    },
    {
      "cell_type": "code",
      "metadata": {
        "colab": {
          "base_uri": "https://localhost:8080/",
          "height": 452
        },
        "id": "5QvDiOjVAZya",
        "outputId": "e122e7ab-18cf-4a06-c7d9-4c130e012d2b"
      },
      "source": [
        "pd.DataFrame(df2.Product.unique())"
      ],
      "execution_count": 20,
      "outputs": [
        {
          "output_type": "execute_result",
          "data": {
            "text/html": [
              "<div>\n",
              "<style scoped>\n",
              "    .dataframe tbody tr th:only-of-type {\n",
              "        vertical-align: middle;\n",
              "    }\n",
              "\n",
              "    .dataframe tbody tr th {\n",
              "        vertical-align: top;\n",
              "    }\n",
              "\n",
              "    .dataframe thead th {\n",
              "        text-align: right;\n",
              "    }\n",
              "</style>\n",
              "<table border=\"1\" class=\"dataframe\">\n",
              "  <thead>\n",
              "    <tr style=\"text-align: right;\">\n",
              "      <th></th>\n",
              "      <th>0</th>\n",
              "    </tr>\n",
              "  </thead>\n",
              "  <tbody>\n",
              "    <tr>\n",
              "      <th>0</th>\n",
              "      <td>Credit reporting, repair, or other</td>\n",
              "    </tr>\n",
              "    <tr>\n",
              "      <th>1</th>\n",
              "      <td>Debt collection</td>\n",
              "    </tr>\n",
              "    <tr>\n",
              "      <th>2</th>\n",
              "      <td>Consumer Loan</td>\n",
              "    </tr>\n",
              "    <tr>\n",
              "      <th>3</th>\n",
              "      <td>Credit card or prepaid card</td>\n",
              "    </tr>\n",
              "    <tr>\n",
              "      <th>4</th>\n",
              "      <td>Mortgage</td>\n",
              "    </tr>\n",
              "    <tr>\n",
              "      <th>5</th>\n",
              "      <td>Vehicle loan or lease</td>\n",
              "    </tr>\n",
              "    <tr>\n",
              "      <th>6</th>\n",
              "      <td>Student loan</td>\n",
              "    </tr>\n",
              "    <tr>\n",
              "      <th>7</th>\n",
              "      <td>Payday loan, title loan, or personal loan</td>\n",
              "    </tr>\n",
              "    <tr>\n",
              "      <th>8</th>\n",
              "      <td>Checking or savings account</td>\n",
              "    </tr>\n",
              "    <tr>\n",
              "      <th>9</th>\n",
              "      <td>Bank account or service</td>\n",
              "    </tr>\n",
              "    <tr>\n",
              "      <th>10</th>\n",
              "      <td>Money transfer, virtual currency, or money ser...</td>\n",
              "    </tr>\n",
              "    <tr>\n",
              "      <th>11</th>\n",
              "      <td>Money transfers</td>\n",
              "    </tr>\n",
              "    <tr>\n",
              "      <th>12</th>\n",
              "      <td>Other financial service</td>\n",
              "    </tr>\n",
              "  </tbody>\n",
              "</table>\n",
              "</div>"
            ],
            "text/plain": [
              "                                                    0\n",
              "0                  Credit reporting, repair, or other\n",
              "1                                     Debt collection\n",
              "2                                       Consumer Loan\n",
              "3                         Credit card or prepaid card\n",
              "4                                            Mortgage\n",
              "5                               Vehicle loan or lease\n",
              "6                                        Student loan\n",
              "7           Payday loan, title loan, or personal loan\n",
              "8                         Checking or savings account\n",
              "9                             Bank account or service\n",
              "10  Money transfer, virtual currency, or money ser...\n",
              "11                                    Money transfers\n",
              "12                            Other financial service"
            ]
          },
          "metadata": {
            "tags": []
          },
          "execution_count": 20
        }
      ]
    },
    {
      "cell_type": "markdown",
      "metadata": {
        "id": "-WlwpvJxAql9"
      },
      "source": [
        "The number of classes were reduced from 18 to 13.\n",
        "\n",
        "Now we need to represent each class as a number, so as our predictive model can better understand the different categories."
      ]
    },
    {
      "cell_type": "code",
      "metadata": {
        "colab": {
          "base_uri": "https://localhost:8080/",
          "height": 204
        },
        "id": "ajUvJq5OAjeJ",
        "outputId": "ec231f8a-776f-4989-c94c-3d8bc6316f90"
      },
      "source": [
        "# Create a new column 'category_id' with encoded categories \n",
        "df2['category_id'] = df2['Product'].factorize()[0]\n",
        "category_id_df = df2[['Product', 'category_id']].drop_duplicates()\n",
        "\n",
        "\n",
        "# Dictionaries for future use\n",
        "category_to_id = dict(category_id_df.values)\n",
        "id_to_category = dict(category_id_df[['category_id', 'Product']].values)\n",
        "\n",
        "# New dataframe\n",
        "df2.head()\n"
      ],
      "execution_count": 21,
      "outputs": [
        {
          "output_type": "execute_result",
          "data": {
            "text/html": [
              "<div>\n",
              "<style scoped>\n",
              "    .dataframe tbody tr th:only-of-type {\n",
              "        vertical-align: middle;\n",
              "    }\n",
              "\n",
              "    .dataframe tbody tr th {\n",
              "        vertical-align: top;\n",
              "    }\n",
              "\n",
              "    .dataframe thead th {\n",
              "        text-align: right;\n",
              "    }\n",
              "</style>\n",
              "<table border=\"1\" class=\"dataframe\">\n",
              "  <thead>\n",
              "    <tr style=\"text-align: right;\">\n",
              "      <th></th>\n",
              "      <th>Product</th>\n",
              "      <th>Consumer_Complaint</th>\n",
              "      <th>category_id</th>\n",
              "    </tr>\n",
              "  </thead>\n",
              "  <tbody>\n",
              "    <tr>\n",
              "      <th>310399</th>\n",
              "      <td>Credit reporting, repair, or other</td>\n",
              "      <td>Bayview completely ignored laws and is reporti...</td>\n",
              "      <td>0</td>\n",
              "    </tr>\n",
              "    <tr>\n",
              "      <th>186155</th>\n",
              "      <td>Credit reporting, repair, or other</td>\n",
              "      <td>inaccurate information no knowledge of account...</td>\n",
              "      <td>0</td>\n",
              "    </tr>\n",
              "    <tr>\n",
              "      <th>651135</th>\n",
              "      <td>Debt collection</td>\n",
              "      <td>On XXXX/XXXX/2016 I received a notice from Con...</td>\n",
              "      <td>1</td>\n",
              "    </tr>\n",
              "    <tr>\n",
              "      <th>515233</th>\n",
              "      <td>Consumer Loan</td>\n",
              "      <td>I have a loan with  Kia Motor Finance. I  rece...</td>\n",
              "      <td>2</td>\n",
              "    </tr>\n",
              "    <tr>\n",
              "      <th>641112</th>\n",
              "      <td>Credit card or prepaid card</td>\n",
              "      <td>I have a XXXX BIG card and made my payment whe...</td>\n",
              "      <td>3</td>\n",
              "    </tr>\n",
              "  </tbody>\n",
              "</table>\n",
              "</div>"
            ],
            "text/plain": [
              "                                   Product  ... category_id\n",
              "310399  Credit reporting, repair, or other  ...           0\n",
              "186155  Credit reporting, repair, or other  ...           0\n",
              "651135                     Debt collection  ...           1\n",
              "515233                       Consumer Loan  ...           2\n",
              "641112         Credit card or prepaid card  ...           3\n",
              "\n",
              "[5 rows x 3 columns]"
            ]
          },
          "metadata": {
            "tags": []
          },
          "execution_count": 21
        }
      ]
    },
    {
      "cell_type": "markdown",
      "metadata": {
        "id": "sjpmyatveKHR"
      },
      "source": [
        "The bar chart below shows the number of complaints per category. It can be observed that The bar chart below shows the number of complaints per category. It can be observed that most of customer complaints are due to:\n",
        "\n",
        "*   credit reporting, credit repair\n",
        "*   debt collection\n",
        "*   mortgage\n",
        "\n",
        "\n",
        "\n"
      ]
    },
    {
      "cell_type": "code",
      "metadata": {
        "colab": {
          "base_uri": "https://localhost:8080/",
          "height": 419
        },
        "id": "bj3F-qcVeBri",
        "outputId": "b82a12ae-dd84-4b6b-fb5e-ad8b6cf77961"
      },
      "source": [
        "fig = plt.figure(figsize=(8,6))\n",
        "colors = ['grey','grey','grey','grey','grey','grey','grey','grey','grey',\n",
        "    'grey','darkblue','darkblue','darkblue']\n",
        "df2.groupby('Product').Consumer_Complaint.count().sort_values().plot.barh(\n",
        "    ylim=0, color=colors, title= 'NUMBER OF COMPLAINTS IN EACH PRODUCT CATEGORY\\n')\n",
        "plt.xlabel('Number of ocurrences', fontsize = 10);"
      ],
      "execution_count": 22,
      "outputs": [
        {
          "output_type": "display_data",
          "data": {
            "image/png": "[encoded data removed]",
            "text/plain": [
              "<Figure size 576x432 with 1 Axes>"
            ]
          },
          "metadata": {
            "tags": [],
            "needs_background": "light"
          }
        }
      ]
    },
    {
      "cell_type": "markdown",
      "metadata": {
        "id": "L5Wq16d6iPUL"
      },
      "source": [
        "The data looks imbalanced.\n",
        "\n",
        "When we encounter such problems, we are bound to have difficulties solving them with standard algorithms. Conventional algorithms are often biased towards the majority class, not taking the data distribution into consideration. In the worst case, minority classes are treated as outliers and ignored.\n",
        "\n",
        "For some cases, such as fraud detection or cancer prediction, we would need to carefully configure our model or artificially balance the dataset, for example by undersampling or oversampling each class.\n",
        "\n",
        "However, in our case of learning imbalanced data, the majority classes might be of our great interest. It is desirable to have a classifier that gives high prediction accuracy over the majority class, while maintaining reasonable accuracy for the minority classes. Therefore, we will leave it as it is.\n",
        "\n",
        "We will calculate a measure called Term Frequency, Inverse Document Frequency, abbreviated to tf-idf.\n",
        "\n",
        "We will use sklearn.feature_extraction.text.TfidfVectorizer to calculate a tf-idf vector for each of consumer complaint narratives"
      ]
    },
    {
      "cell_type": "markdown",
      "metadata": {
        "id": "OnFbgMuogwYa"
      },
      "source": [
        "#6. Text Preprocessing\n",
        "\n",
        "The text needs to be transformed to vectors so as the algorithms will be able make predictions. In this case it will be used the Term Frequency – Inverse Document Frequency (TFIDF) weight to evaluate **how important a word is to a document in a collection of documents**.\n",
        "\n",
        "After removing **punctuation** and **lower casing** the words, importance of a word is determined in terms of its frequency.\n",
        "\n",
        "TF-IDF are word frequency scores that try to highlight words that are more interesting, e.g. frequent in a document but not across documents. The higher the TFIDF score, the rarer the term is. For instance, in a Mortgage complaint the word mortgage would be mentioned fairly often. However, if we look at other complaints, mortgage probably would not show up in many of them. We can infer that mortgage is most probably an important word in Mortgage complaints as compared to the other products. Therefore, mortgage would have a high TF-IDF score for Mortgage complaints.\n",
        "\n",
        "TfidfVectorizer class can be initialized with the following parameters:\n",
        "\n",
        "*  **min_df:** remove the words from the vocabulary which have occurred in less than ‘min_df’ number of files.\n",
        "*  **max_df:** remove the words from the vocabulary which have occurred in more than _‘maxdf’ * total number of files in corpus.\n",
        "*  **sublinear_tf:** set to True to scale the term frequency in logarithmic scale.\n",
        "*  **stop_words:** remove the predefined stop words in 'english'.\n",
        "*  **use_idf:** weight factor must use inverse document frequency.\n",
        "*  **ngram_range:** (1, 2) to indicate that unigrams and bigrams will be considered."
      ]
    },
    {
      "cell_type": "code",
      "metadata": {
        "id": "OYbfTFJSeoM9",
        "colab": {
          "base_uri": "https://localhost:8080/"
        },
        "outputId": "9e3dfb43-920e-4aa9-8e04-67d2e27c8499"
      },
      "source": [
        "tfidf = TfidfVectorizer(sublinear_tf=True, min_df=5,\n",
        "                        ngram_range=(1, 2), \n",
        "                        stop_words='english')\n",
        "\n",
        "# We transform each complaint into a vector\n",
        "features = tfidf.fit_transform(df2.Consumer_Complaint).toarray()\n",
        "\n",
        "labels = df2.category_id\n",
        "\n",
        "print(\"Each of the %d complaints is represented by %d features (TF-IDF score of unigrams and bigrams)\" %(features.shape))"
      ],
      "execution_count": 26,
      "outputs": [
        {
          "output_type": "stream",
          "text": [
            "Each of the 10000 complaints is represented by 27507 features (TF-IDF score of unigrams and bigrams)\n"
          ],
          "name": "stdout"
        }
      ]
    },
    {
      "cell_type": "markdown",
      "metadata": {
        "id": "Yeyng8UxMBsr"
      },
      "source": [
        "1. **sublinear_df** is set to True to use a logarithmic form for frequency.\n",
        "2. **min_df** is the minimum numbers of documents a word must be present in to be kept.\n",
        "3. **ngram_range** is set to (1, 2) to indicate that we want to consider both unigrams and bigrams.\n",
        "4. **stop_words** is set to \"english\" to remove all common pronouns (\"a\", \"the\", ...) to reduce the number of noisy features."
      ]
    },
    {
      "cell_type": "code",
      "metadata": {
        "colab": {
          "base_uri": "https://localhost:8080/"
        },
        "id": "2TLoptPrMfSA",
        "outputId": "3d2a6e78-b2d8-4f88-a855-7acbc6f80009"
      },
      "source": [
        "# Finding the three most correlated terms with each of the product categories\n",
        "N = 3\n",
        "for Product, category_id in sorted(category_to_id.items()):\n",
        "  features_chi2 = chi2(features, labels == category_id)\n",
        "  indices = np.argsort(features_chi2[0])\n",
        "  feature_names = np.array(tfidf.get_feature_names())[indices]\n",
        "  unigrams = [v for v in feature_names if len(v.split(' ')) == 1]\n",
        "  bigrams = [v for v in feature_names if len(v.split(' ')) == 2]\n",
        "  print(\"\\n==> %s:\" %(Product))\n",
        "  print(\"  * Most Correlated Unigrams are: %s\" %(', '.join(unigrams[-N:])))\n",
        "  print(\"  * Most Correlated Bigrams are: %s\" %(', '.join(bigrams[-N:])))"
      ],
      "execution_count": 31,
      "outputs": [
        {
          "output_type": "stream",
          "text": [
            "\n",
            "==> Bank account or service:\n",
            "  * Most Correlated Unigrams are: overdraft, bank, scottrade\n",
            "  * Most Correlated Bigrams are: citigold checking, debit card, checking account\n",
            "\n",
            "==> Checking or savings account:\n",
            "  * Most Correlated Unigrams are: checking, branch, overdraft\n",
            "  * Most Correlated Bigrams are: 00 bonus, overdraft fees, checking account\n",
            "\n",
            "==> Consumer Loan:\n",
            "  * Most Correlated Unigrams are: dealership, vehicle, car\n",
            "  * Most Correlated Bigrams are: car loan, vehicle loan, regional acceptance\n",
            "\n",
            "==> Credit card or prepaid card:\n",
            "  * Most Correlated Unigrams are: express, citi, card\n",
            "  * Most Correlated Bigrams are: balance transfer, american express, credit card\n",
            "\n",
            "==> Credit reporting, repair, or other:\n",
            "  * Most Correlated Unigrams are: report, experian, equifax\n",
            "  * Most Correlated Bigrams are: credit file, equifax xxxx, credit report\n",
            "\n",
            "==> Debt collection:\n",
            "  * Most Correlated Unigrams are: collect, collection, debt\n",
            "  * Most Correlated Bigrams are: debt collector, collect debt, collection agency\n",
            "\n",
            "==> Money transfer, virtual currency, or money service:\n",
            "  * Most Correlated Unigrams are: ethereum, bitcoin, coinbase\n",
            "  * Most Correlated Bigrams are: account coinbase, coinbase xxxx, coinbase account\n",
            "\n",
            "==> Money transfers:\n",
            "  * Most Correlated Unigrams are: paypal, moneygram, gram\n",
            "  * Most Correlated Bigrams are: sending money, western union, money gram\n",
            "\n",
            "==> Mortgage:\n",
            "  * Most Correlated Unigrams are: escrow, modification, mortgage\n",
            "  * Most Correlated Bigrams are: short sale, mortgage company, loan modification\n",
            "\n",
            "==> Other financial service:\n",
            "  * Most Correlated Unigrams are: meetings, productive, vast\n",
            "  * Most Correlated Bigrams are: insurance check, check payable, face face\n",
            "\n",
            "==> Payday loan, title loan, or personal loan:\n",
            "  * Most Correlated Unigrams are: astra, ace, payday\n",
            "  * Most Correlated Bigrams are: 00 loan, applied payday, payday loan\n",
            "\n",
            "==> Student loan:\n",
            "  * Most Correlated Unigrams are: student, loans, navient\n",
            "  * Most Correlated Bigrams are: income based, student loan, student loans\n",
            "\n",
            "==> Vehicle loan or lease:\n",
            "  * Most Correlated Unigrams are: honda, car, vehicle\n",
            "  * Most Correlated Bigrams are: used vehicle, total loss, honda financial\n"
          ],
          "name": "stdout"
        }
      ]
    },
    {
      "cell_type": "markdown",
      "metadata": {
        "id": "4WWYM9KTO3lW"
      },
      "source": [
        "#7. Multi-Classification models\n",
        "\n",
        "The classification models evaluated are:\n",
        "\n",
        "* Random Forest\n",
        "* Linear Support Vector Machine\n",
        "* Multinomial Naive Bayes\n",
        "* Logistic Regression."
      ]
    },
    {
      "cell_type": "markdown",
      "metadata": {
        "id": "BEtecoQ_PO7B"
      },
      "source": [
        "###Spliting the data into train and test sets\n",
        "The original data was divided into features (X) and target (y), which were then splitted into train (75%) and test (25%) sets. Thus, the algorithms would be trained on one set of data and tested out on a completely different set of data (not seen before by the algorithm)."
      ]
    },
    {
      "cell_type": "code",
      "metadata": {
        "id": "9TzFD4tcO-6n"
      },
      "source": [
        "X = df2['Consumer_Complaint'] # Collection of documents\n",
        "y = df2['Product'] # Target or the labels we want to predict (i.e., the 13 different complaints of products)\n",
        "\n",
        "X_train, X_test, y_train, y_test = train_test_split(X, y, \n",
        "                                                    test_size=0.25,\n",
        "                                                    random_state = 0)"
      ],
      "execution_count": 35,
      "outputs": []
    },
    {
      "cell_type": "code",
      "metadata": {
        "colab": {
          "base_uri": "https://localhost:8080/"
        },
        "id": "1-7pAGs6Pghk",
        "outputId": "8345c761-225a-448f-ce0c-14d263f62bb1"
      },
      "source": [
        "models = [\n",
        "    RandomForestClassifier(n_estimators=100, max_depth=5, random_state=0),\n",
        "    LinearSVC(),\n",
        "    MultinomialNB(),\n",
        "    LogisticRegression(random_state=0),\n",
        "]\n",
        "\n",
        "# 5 Cross-validation\n",
        "CV = 5\n",
        "cv_df = pd.DataFrame(index=range(CV * len(models)))\n",
        "\n",
        "entries = []\n",
        "for model in models:\n",
        "  model_name = model.__class__.__name__\n",
        "  accuracies = cross_val_score(model, features, labels, scoring='accuracy', cv=CV)\n",
        "  for fold_idx, accuracy in enumerate(accuracies):\n",
        "    entries.append((model_name, fold_idx, accuracy))\n",
        "    \n",
        "cv_df = pd.DataFrame(entries, columns=['model_name', 'fold_idx', 'accuracy'])"
      ],
      "execution_count": 40,
      "outputs": [
        {
          "output_type": "stream",
          "text": [
            "/usr/local/lib/python3.7/dist-packages/sklearn/linear_model/_logistic.py:940: ConvergenceWarning: lbfgs failed to converge (status=1):\n",
            "STOP: TOTAL NO. of ITERATIONS REACHED LIMIT.\n",
            "\n",
            "Increase the number of iterations (max_iter) or scale the data as shown in:\n",
            "    https://scikit-learn.org/stable/modules/preprocessing.html\n",
            "Please also refer to the documentation for alternative solver options:\n",
            "    https://scikit-learn.org/stable/modules/linear_model.html#logistic-regression\n",
            "  extra_warning_msg=_LOGISTIC_SOLVER_CONVERGENCE_MSG)\n",
            "/usr/local/lib/python3.7/dist-packages/sklearn/linear_model/_logistic.py:940: ConvergenceWarning: lbfgs failed to converge (status=1):\n",
            "STOP: TOTAL NO. of ITERATIONS REACHED LIMIT.\n",
            "\n",
            "Increase the number of iterations (max_iter) or scale the data as shown in:\n",
            "    https://scikit-learn.org/stable/modules/preprocessing.html\n",
            "Please also refer to the documentation for alternative solver options:\n",
            "    https://scikit-learn.org/stable/modules/linear_model.html#logistic-regression\n",
            "  extra_warning_msg=_LOGISTIC_SOLVER_CONVERGENCE_MSG)\n",
            "/usr/local/lib/python3.7/dist-packages/sklearn/linear_model/_logistic.py:940: ConvergenceWarning: lbfgs failed to converge (status=1):\n",
            "STOP: TOTAL NO. of ITERATIONS REACHED LIMIT.\n",
            "\n",
            "Increase the number of iterations (max_iter) or scale the data as shown in:\n",
            "    https://scikit-learn.org/stable/modules/preprocessing.html\n",
            "Please also refer to the documentation for alternative solver options:\n",
            "    https://scikit-learn.org/stable/modules/linear_model.html#logistic-regression\n",
            "  extra_warning_msg=_LOGISTIC_SOLVER_CONVERGENCE_MSG)\n",
            "/usr/local/lib/python3.7/dist-packages/sklearn/linear_model/_logistic.py:940: ConvergenceWarning: lbfgs failed to converge (status=1):\n",
            "STOP: TOTAL NO. of ITERATIONS REACHED LIMIT.\n",
            "\n",
            "Increase the number of iterations (max_iter) or scale the data as shown in:\n",
            "    https://scikit-learn.org/stable/modules/preprocessing.html\n",
            "Please also refer to the documentation for alternative solver options:\n",
            "    https://scikit-learn.org/stable/modules/linear_model.html#logistic-regression\n",
            "  extra_warning_msg=_LOGISTIC_SOLVER_CONVERGENCE_MSG)\n",
            "/usr/local/lib/python3.7/dist-packages/sklearn/linear_model/_logistic.py:940: ConvergenceWarning: lbfgs failed to converge (status=1):\n",
            "STOP: TOTAL NO. of ITERATIONS REACHED LIMIT.\n",
            "\n",
            "Increase the number of iterations (max_iter) or scale the data as shown in:\n",
            "    https://scikit-learn.org/stable/modules/preprocessing.html\n",
            "Please also refer to the documentation for alternative solver options:\n",
            "    https://scikit-learn.org/stable/modules/linear_model.html#logistic-regression\n",
            "  extra_warning_msg=_LOGISTIC_SOLVER_CONVERGENCE_MSG)\n"
          ],
          "name": "stderr"
        }
      ]
    },
    {
      "cell_type": "markdown",
      "metadata": {
        "id": "hK4Ap4D7TeU1"
      },
      "source": [
        "###Comparison of model performance\n",
        "The best mean acuracy was obtained with LinearSVC."
      ]
    },
    {
      "cell_type": "code",
      "metadata": {
        "colab": {
          "base_uri": "https://localhost:8080/",
          "height": 204
        },
        "id": "ZgXg0ycKR7ZF",
        "outputId": "2a89e5ef-01d8-444d-aa77-decc0b446549"
      },
      "source": [
        "mean_accuracy = cv_df.groupby('model_name').accuracy.mean()\n",
        "std_accuracy = cv_df.groupby('model_name').accuracy.std()\n",
        "\n",
        "acc = pd.concat([mean_accuracy, std_accuracy], axis= 1, \n",
        "          ignore_index=True)\n",
        "acc.columns = ['Mean Accuracy', 'Standard deviation']\n",
        "acc"
      ],
      "execution_count": 43,
      "outputs": [
        {
          "output_type": "execute_result",
          "data": {
            "text/html": [
              "<div>\n",
              "<style scoped>\n",
              "    .dataframe tbody tr th:only-of-type {\n",
              "        vertical-align: middle;\n",
              "    }\n",
              "\n",
              "    .dataframe tbody tr th {\n",
              "        vertical-align: top;\n",
              "    }\n",
              "\n",
              "    .dataframe thead th {\n",
              "        text-align: right;\n",
              "    }\n",
              "</style>\n",
              "<table border=\"1\" class=\"dataframe\">\n",
              "  <thead>\n",
              "    <tr style=\"text-align: right;\">\n",
              "      <th></th>\n",
              "      <th>Mean Accuracy</th>\n",
              "      <th>Standard deviation</th>\n",
              "    </tr>\n",
              "    <tr>\n",
              "      <th>model_name</th>\n",
              "      <th></th>\n",
              "      <th></th>\n",
              "    </tr>\n",
              "  </thead>\n",
              "  <tbody>\n",
              "    <tr>\n",
              "      <th>LinearSVC</th>\n",
              "      <td>0.7791</td>\n",
              "      <td>0.005561</td>\n",
              "    </tr>\n",
              "    <tr>\n",
              "      <th>LogisticRegression</th>\n",
              "      <td>0.7641</td>\n",
              "      <td>0.009839</td>\n",
              "    </tr>\n",
              "    <tr>\n",
              "      <th>MultinomialNB</th>\n",
              "      <td>0.6475</td>\n",
              "      <td>0.004596</td>\n",
              "    </tr>\n",
              "    <tr>\n",
              "      <th>RandomForestClassifier</th>\n",
              "      <td>0.3949</td>\n",
              "      <td>0.006665</td>\n",
              "    </tr>\n",
              "  </tbody>\n",
              "</table>\n",
              "</div>"
            ],
            "text/plain": [
              "                        Mean Accuracy  Standard deviation\n",
              "model_name                                               \n",
              "LinearSVC                      0.7791            0.005561\n",
              "LogisticRegression             0.7641            0.009839\n",
              "MultinomialNB                  0.6475            0.004596\n",
              "RandomForestClassifier         0.3949            0.006665"
            ]
          },
          "metadata": {
            "tags": []
          },
          "execution_count": 43
        }
      ]
    },
    {
      "cell_type": "code",
      "metadata": {
        "colab": {
          "base_uri": "https://localhost:8080/",
          "height": 368
        },
        "id": "EJmNdNOUdNom",
        "outputId": "78699148-0e12-42c2-fd17-6078538bd118"
      },
      "source": [
        "plt.figure(figsize=(8,5))\n",
        "sns.boxplot(x='model_name', y='accuracy', \n",
        "            data=cv_df, \n",
        "            color='lightblue', \n",
        "            showmeans=True)\n",
        "plt.title(\"MEAN ACCURACY (cv = 5)\\n\", size=14);"
      ],
      "execution_count": 46,
      "outputs": [
        {
          "output_type": "display_data",
          "data": {
            "image/png": "[encoded data removed]",
            "text/plain": [
              "<Figure size 576x360 with 1 Axes>"
            ]
          },
          "metadata": {
            "tags": [],
            "needs_background": "light"
          }
        }
      ]
    },
    {
      "cell_type": "markdown",
      "metadata": {
        "id": "c3oTPDEEf8SH"
      },
      "source": [
        "#8. Model Evaluation"
      ]
    },
    {
      "cell_type": "code",
      "metadata": {
        "id": "K9l2zi-ydVZb"
      },
      "source": [
        "X_train, X_test, y_train, y_test,indices_train,indices_test = train_test_split(features, \n",
        "                                                               labels, df2.index, \n",
        "                                                               test_size=0.25, \n",
        "                                                               random_state=1)\n",
        "model = LinearSVC()\n",
        "model.fit(X_train, y_train)\n",
        "y_pred = model.predict(X_test)"
      ],
      "execution_count": 47,
      "outputs": []
    },
    {
      "cell_type": "code",
      "metadata": {
        "colab": {
          "base_uri": "https://localhost:8080/"
        },
        "id": "Q7zIjtnBgTJu",
        "outputId": "b8eea9c3-3785-4cae-80e4-609fbbfae231"
      },
      "source": [
        "# Classification report\n",
        "print('\\t\\t\\t\\tCLASSIFICATIION METRICS\\n')\n",
        "print(metrics.classification_report(y_test, y_pred, \n",
        "                                    target_names= df2['Product'].unique()))"
      ],
      "execution_count": 50,
      "outputs": [
        {
          "output_type": "stream",
          "text": [
            "\t\t\t\tCLASSIFICATIION METRICS\n",
            "\n",
            "                                                    precision    recall  f1-score   support\n",
            "\n",
            "                Credit reporting, repair, or other       0.81      0.88      0.84       783\n",
            "                                   Debt collection       0.76      0.80      0.78       588\n",
            "                                     Consumer Loan       0.52      0.22      0.31        73\n",
            "                       Credit card or prepaid card       0.73      0.82      0.77       253\n",
            "                                          Mortgage       0.87      0.92      0.90       340\n",
            "                             Vehicle loan or lease       0.43      0.14      0.21        43\n",
            "                                      Student loan       0.85      0.85      0.85       155\n",
            "         Payday loan, title loan, or personal loan       0.50      0.17      0.26        40\n",
            "                       Checking or savings account       0.61      0.60      0.61        85\n",
            "                           Bank account or service       0.61      0.43      0.50        93\n",
            "Money transfer, virtual currency, or money service       0.83      0.62      0.71        32\n",
            "                                   Money transfers       0.60      0.23      0.33        13\n",
            "                           Other financial service       0.00      0.00      0.00         2\n",
            "\n",
            "                                          accuracy                           0.78      2500\n",
            "                                         macro avg       0.62      0.51      0.54      2500\n",
            "                                      weighted avg       0.77      0.78      0.77      2500\n",
            "\n"
          ],
          "name": "stdout"
        },
        {
          "output_type": "stream",
          "text": [
            "/usr/local/lib/python3.7/dist-packages/sklearn/metrics/_classification.py:1272: UndefinedMetricWarning: Precision and F-score are ill-defined and being set to 0.0 in labels with no predicted samples. Use `zero_division` parameter to control this behavior.\n",
            "  _warn_prf(average, modifier, msg_start, len(result))\n"
          ],
          "name": "stderr"
        }
      ]
    },
    {
      "cell_type": "markdown",
      "metadata": {
        "id": "GVgnsznKgvXS"
      },
      "source": [
        "It is possible to observe that the classes with more support (number of occurrences) tend to have a better f1-cscore. This is because the algorithm was trained with more data.\n",
        "\n",
        "The classes that can be classified with more precision are ‘Mortgage’, ‘Credit reporting, repair, or other’, and ‘Student loan’."
      ]
    },
    {
      "cell_type": "markdown",
      "metadata": {
        "id": "1k9mxPh2hLG3"
      },
      "source": [
        "###Confusion Matrix\n",
        "\n",
        "A Confusion Matrix is a table which rows represent the actual class and columns represents the predicted class.\n",
        "\n",
        "If we had a perfect model that always classifies correctly a new complaint, then the confusion matrix would have values in the diagonal only (where predicted label = actual label)."
      ]
    },
    {
      "cell_type": "code",
      "metadata": {
        "colab": {
          "base_uri": "https://localhost:8080/",
          "height": 776
        },
        "id": "TiCgJCQFgbyS",
        "outputId": "04493745-742a-40aa-f475-1745f7e571b4"
      },
      "source": [
        "conf_mat = confusion_matrix(y_test, y_pred)\n",
        "fig, ax = plt.subplots(figsize=(8,8))\n",
        "sns.heatmap(conf_mat, annot=True, cmap=\"Blues\", fmt='d',\n",
        "            xticklabels=category_id_df.Product.values, \n",
        "            yticklabels=category_id_df.Product.values)\n",
        "plt.ylabel('Actual')\n",
        "plt.xlabel('Predicted')\n",
        "plt.title(\"CONFUSION MATRIX - LinearSVC\\n\", size=16);"
      ],
      "execution_count": 53,
      "outputs": [
        {
          "output_type": "display_data",
          "data": {
            "image/png": "[encoded data removed]",
            "text/plain": [
              "<Figure size 576x576 with 2 Axes>"
            ]
          },
          "metadata": {
            "tags": [],
            "needs_background": "light"
          }
        }
      ]
    },
    {
      "cell_type": "markdown",
      "metadata": {
        "id": "U7wJ-k5Rkm0n"
      },
      "source": [
        "###Misclassified complaints\n",
        "Let’s have a look at the cases that were wrongly classified."
      ]
    },
    {
      "cell_type": "code",
      "metadata": {
        "colab": {
          "base_uri": "https://localhost:8080/",
          "height": 1000
        },
        "id": "MvMtB1Kxkorg",
        "outputId": "8fffc757-951b-47b1-f490-9a8f7bfd2f50"
      },
      "source": [
        "for predicted in category_id_df.category_id:\n",
        "  for actual in category_id_df.category_id:\n",
        "    if predicted != actual and conf_mat[actual, predicted] >= 20:\n",
        "      print(\"\\n'{}' predicted as '{}': {} examples.\\n\".format(id_to_category[actual], \n",
        "                                                           id_to_category[predicted], \n",
        "                                                           conf_mat[actual, predicted]))\n",
        "    \n",
        "      display(df2.loc[indices_test[(y_test == actual) & (y_pred == predicted)]][['Product', \n",
        "                                                                'Consumer_Complaint']])\n",
        "      print('')"
      ],
      "execution_count": 59,
      "outputs": [
        {
          "output_type": "stream",
          "text": [
            "\n",
            "'Debt collection' predicted as 'Credit reporting, repair, or other': 71 examples.\n",
            "\n"
          ],
          "name": "stdout"
        },
        {
          "output_type": "display_data",
          "data": {
            "text/html": [
              "<div>\n",
              "<style scoped>\n",
              "    .dataframe tbody tr th:only-of-type {\n",
              "        vertical-align: middle;\n",
              "    }\n",
              "\n",
              "    .dataframe tbody tr th {\n",
              "        vertical-align: top;\n",
              "    }\n",
              "\n",
              "    .dataframe thead th {\n",
              "        text-align: right;\n",
              "    }\n",
              "</style>\n",
              "<table border=\"1\" class=\"dataframe\">\n",
              "  <thead>\n",
              "    <tr style=\"text-align: right;\">\n",
              "      <th></th>\n",
              "      <th>Product</th>\n",
              "      <th>Consumer_Complaint</th>\n",
              "    </tr>\n",
              "  </thead>\n",
              "  <tbody>\n",
              "    <tr>\n",
              "      <th>483075</th>\n",
              "      <td>Debt collection</td>\n",
              "      <td>This agency has three collections listed which...</td>\n",
              "    </tr>\n",
              "    <tr>\n",
              "      <th>111807</th>\n",
              "      <td>Debt collection</td>\n",
              "      <td>I am writing to dispute the inaccurate data be...</td>\n",
              "    </tr>\n",
              "    <tr>\n",
              "      <th>376788</th>\n",
              "      <td>Debt collection</td>\n",
              "      <td>check n ' Go payday loan made me a loan and th...</td>\n",
              "    </tr>\n",
              "    <tr>\n",
              "      <th>570764</th>\n",
              "      <td>Debt collection</td>\n",
              "      <td>THIS AMT OWED {$8800.00} WAS TO BE PAID UNDER ...</td>\n",
              "    </tr>\n",
              "    <tr>\n",
              "      <th>88089</th>\n",
              "      <td>Debt collection</td>\n",
              "      <td>I am submitting this complaint for an account ...</td>\n",
              "    </tr>\n",
              "    <tr>\n",
              "      <th>...</th>\n",
              "      <td>...</td>\n",
              "      <td>...</td>\n",
              "    </tr>\n",
              "    <tr>\n",
              "      <th>155139</th>\n",
              "      <td>Debt collection</td>\n",
              "      <td>Between XX/XX/XXXX and XX/XX/XXXX, this accoun...</td>\n",
              "    </tr>\n",
              "    <tr>\n",
              "      <th>360018</th>\n",
              "      <td>Debt collection</td>\n",
              "      <td>On XXXX XXXX, 2017 XXXX opened up an account f...</td>\n",
              "    </tr>\n",
              "    <tr>\n",
              "      <th>165296</th>\n",
              "      <td>Debt collection</td>\n",
              "      <td>I have tried disputing with the bureau on seve...</td>\n",
              "    </tr>\n",
              "    <tr>\n",
              "      <th>159609</th>\n",
              "      <td>Debt collection</td>\n",
              "      <td>This is a complaint against National Credit Sy...</td>\n",
              "    </tr>\n",
              "    <tr>\n",
              "      <th>356062</th>\n",
              "      <td>Debt collection</td>\n",
              "      <td>TransUnion Consumer Relations XXXX. XXXX XXXX,...</td>\n",
              "    </tr>\n",
              "  </tbody>\n",
              "</table>\n",
              "<p>71 rows × 2 columns</p>\n",
              "</div>"
            ],
            "text/plain": [
              "                Product                                 Consumer_Complaint\n",
              "483075  Debt collection  This agency has three collections listed which...\n",
              "111807  Debt collection  I am writing to dispute the inaccurate data be...\n",
              "376788  Debt collection  check n ' Go payday loan made me a loan and th...\n",
              "570764  Debt collection  THIS AMT OWED {$8800.00} WAS TO BE PAID UNDER ...\n",
              "88089   Debt collection  I am submitting this complaint for an account ...\n",
              "...                 ...                                                ...\n",
              "155139  Debt collection  Between XX/XX/XXXX and XX/XX/XXXX, this accoun...\n",
              "360018  Debt collection  On XXXX XXXX, 2017 XXXX opened up an account f...\n",
              "165296  Debt collection  I have tried disputing with the bureau on seve...\n",
              "159609  Debt collection  This is a complaint against National Credit Sy...\n",
              "356062  Debt collection  TransUnion Consumer Relations XXXX. XXXX XXXX,...\n",
              "\n",
              "[71 rows x 2 columns]"
            ]
          },
          "metadata": {
            "tags": []
          }
        },
        {
          "output_type": "stream",
          "text": [
            "\n",
            "\n",
            "'Credit card or prepaid card' predicted as 'Credit reporting, repair, or other': 20 examples.\n",
            "\n"
          ],
          "name": "stdout"
        },
        {
          "output_type": "display_data",
          "data": {
            "text/html": [
              "<div>\n",
              "<style scoped>\n",
              "    .dataframe tbody tr th:only-of-type {\n",
              "        vertical-align: middle;\n",
              "    }\n",
              "\n",
              "    .dataframe tbody tr th {\n",
              "        vertical-align: top;\n",
              "    }\n",
              "\n",
              "    .dataframe thead th {\n",
              "        text-align: right;\n",
              "    }\n",
              "</style>\n",
              "<table border=\"1\" class=\"dataframe\">\n",
              "  <thead>\n",
              "    <tr style=\"text-align: right;\">\n",
              "      <th></th>\n",
              "      <th>Product</th>\n",
              "      <th>Consumer_Complaint</th>\n",
              "    </tr>\n",
              "  </thead>\n",
              "  <tbody>\n",
              "    <tr>\n",
              "      <th>399397</th>\n",
              "      <td>Credit card or prepaid card</td>\n",
              "      <td>On XXXX XXXX, XXXX I submitted correspondence ...</td>\n",
              "    </tr>\n",
              "    <tr>\n",
              "      <th>752303</th>\n",
              "      <td>Credit card or prepaid card</td>\n",
              "      <td>I purchased a room size air conditioner from X...</td>\n",
              "    </tr>\n",
              "    <tr>\n",
              "      <th>544109</th>\n",
              "      <td>Credit card or prepaid card</td>\n",
              "      <td>To Whom May Concern : Early Spring XX/XX/XXXX ...</td>\n",
              "    </tr>\n",
              "    <tr>\n",
              "      <th>723669</th>\n",
              "      <td>Credit card or prepaid card</td>\n",
              "      <td>The Sychrony issued excessive credit to me thr...</td>\n",
              "    </tr>\n",
              "    <tr>\n",
              "      <th>202661</th>\n",
              "      <td>Credit card or prepaid card</td>\n",
              "      <td>I reviewed my credit report and saw an account...</td>\n",
              "    </tr>\n",
              "    <tr>\n",
              "      <th>891797</th>\n",
              "      <td>Credit card or prepaid card</td>\n",
              "      <td>I have a SYNCB/WALMART DUAL CARD. Unbeknownst ...</td>\n",
              "    </tr>\n",
              "    <tr>\n",
              "      <th>280866</th>\n",
              "      <td>Credit card or prepaid card</td>\n",
              "      <td>XX/XX/2017 Monthly payment XXXX dollars. I rea...</td>\n",
              "    </tr>\n",
              "    <tr>\n",
              "      <th>350390</th>\n",
              "      <td>Credit card or prepaid card</td>\n",
              "      <td>I received a letter from XXXX On XXXX XXXX 201...</td>\n",
              "    </tr>\n",
              "    <tr>\n",
              "      <th>413596</th>\n",
              "      <td>Credit card or prepaid card</td>\n",
              "      <td>XXXX investigated the following listing, XXXX ...</td>\n",
              "    </tr>\n",
              "    <tr>\n",
              "      <th>725609</th>\n",
              "      <td>Credit card or prepaid card</td>\n",
              "      <td>Seventh Ave has charged off an account and con...</td>\n",
              "    </tr>\n",
              "    <tr>\n",
              "      <th>262615</th>\n",
              "      <td>Credit card or prepaid card</td>\n",
              "      <td>XXXX XXXX XXXX has been ongoingly writing me s...</td>\n",
              "    </tr>\n",
              "    <tr>\n",
              "      <th>684599</th>\n",
              "      <td>Credit card or prepaid card</td>\n",
              "      <td>XXXX, Capital One ( XXXX accounts ), XXXX XXXX...</td>\n",
              "    </tr>\n",
              "    <tr>\n",
              "      <th>292383</th>\n",
              "      <td>Credit card or prepaid card</td>\n",
              "      <td>It started back in XX/XX/XXXX when i requested...</td>\n",
              "    </tr>\n",
              "    <tr>\n",
              "      <th>84379</th>\n",
              "      <td>Credit card or prepaid card</td>\n",
              "      <td>On XX/XX/XXXX I logged into my XXXX XXXX XXXX,...</td>\n",
              "    </tr>\n",
              "    <tr>\n",
              "      <th>821856</th>\n",
              "      <td>Credit card or prepaid card</td>\n",
              "      <td>This issue is that the subsidiary collection a...</td>\n",
              "    </tr>\n",
              "    <tr>\n",
              "      <th>450626</th>\n",
              "      <td>Credit card or prepaid card</td>\n",
              "      <td>I am a victim of identity theft. I have previo...</td>\n",
              "    </tr>\n",
              "    <tr>\n",
              "      <th>716883</th>\n",
              "      <td>Credit card or prepaid card</td>\n",
              "      <td>I had recurring loads set up on my prepaid car...</td>\n",
              "    </tr>\n",
              "    <tr>\n",
              "      <th>851132</th>\n",
              "      <td>Credit card or prepaid card</td>\n",
              "      <td>Old account that is my ex husbands, I requeste...</td>\n",
              "    </tr>\n",
              "    <tr>\n",
              "      <th>223701</th>\n",
              "      <td>Credit card or prepaid card</td>\n",
              "      <td>I am writing now in wish to receive your help....</td>\n",
              "    </tr>\n",
              "    <tr>\n",
              "      <th>333703</th>\n",
              "      <td>Credit card or prepaid card</td>\n",
              "      <td>After moving from my address in XXXX, NY I was...</td>\n",
              "    </tr>\n",
              "  </tbody>\n",
              "</table>\n",
              "</div>"
            ],
            "text/plain": [
              "                            Product                                 Consumer_Complaint\n",
              "399397  Credit card or prepaid card  On XXXX XXXX, XXXX I submitted correspondence ...\n",
              "752303  Credit card or prepaid card  I purchased a room size air conditioner from X...\n",
              "544109  Credit card or prepaid card  To Whom May Concern : Early Spring XX/XX/XXXX ...\n",
              "723669  Credit card or prepaid card  The Sychrony issued excessive credit to me thr...\n",
              "202661  Credit card or prepaid card  I reviewed my credit report and saw an account...\n",
              "891797  Credit card or prepaid card  I have a SYNCB/WALMART DUAL CARD. Unbeknownst ...\n",
              "280866  Credit card or prepaid card  XX/XX/2017 Monthly payment XXXX dollars. I rea...\n",
              "350390  Credit card or prepaid card  I received a letter from XXXX On XXXX XXXX 201...\n",
              "413596  Credit card or prepaid card  XXXX investigated the following listing, XXXX ...\n",
              "725609  Credit card or prepaid card  Seventh Ave has charged off an account and con...\n",
              "262615  Credit card or prepaid card  XXXX XXXX XXXX has been ongoingly writing me s...\n",
              "684599  Credit card or prepaid card  XXXX, Capital One ( XXXX accounts ), XXXX XXXX...\n",
              "292383  Credit card or prepaid card  It started back in XX/XX/XXXX when i requested...\n",
              "84379   Credit card or prepaid card  On XX/XX/XXXX I logged into my XXXX XXXX XXXX,...\n",
              "821856  Credit card or prepaid card  This issue is that the subsidiary collection a...\n",
              "450626  Credit card or prepaid card  I am a victim of identity theft. I have previo...\n",
              "716883  Credit card or prepaid card  I had recurring loads set up on my prepaid car...\n",
              "851132  Credit card or prepaid card  Old account that is my ex husbands, I requeste...\n",
              "223701  Credit card or prepaid card  I am writing now in wish to receive your help....\n",
              "333703  Credit card or prepaid card  After moving from my address in XXXX, NY I was..."
            ]
          },
          "metadata": {
            "tags": []
          }
        },
        {
          "output_type": "stream",
          "text": [
            "\n",
            "\n",
            "'Credit reporting, repair, or other' predicted as 'Debt collection': 48 examples.\n",
            "\n"
          ],
          "name": "stdout"
        },
        {
          "output_type": "display_data",
          "data": {
            "text/html": [
              "<div>\n",
              "<style scoped>\n",
              "    .dataframe tbody tr th:only-of-type {\n",
              "        vertical-align: middle;\n",
              "    }\n",
              "\n",
              "    .dataframe tbody tr th {\n",
              "        vertical-align: top;\n",
              "    }\n",
              "\n",
              "    .dataframe thead th {\n",
              "        text-align: right;\n",
              "    }\n",
              "</style>\n",
              "<table border=\"1\" class=\"dataframe\">\n",
              "  <thead>\n",
              "    <tr style=\"text-align: right;\">\n",
              "      <th></th>\n",
              "      <th>Product</th>\n",
              "      <th>Consumer_Complaint</th>\n",
              "    </tr>\n",
              "  </thead>\n",
              "  <tbody>\n",
              "    <tr>\n",
              "      <th>167717</th>\n",
              "      <td>Credit reporting, repair, or other</td>\n",
              "      <td>When my vehicle was repossessed in XX/XX/2017 ...</td>\n",
              "    </tr>\n",
              "    <tr>\n",
              "      <th>131925</th>\n",
              "      <td>Credit reporting, repair, or other</td>\n",
              "      <td>I submitted a dispute online on a debt with XX...</td>\n",
              "    </tr>\n",
              "    <tr>\n",
              "      <th>675868</th>\n",
              "      <td>Credit reporting, repair, or other</td>\n",
              "      <td>My name is XXXX XXXX. Your collection agency i...</td>\n",
              "    </tr>\n",
              "    <tr>\n",
              "      <th>370575</th>\n",
              "      <td>Credit reporting, repair, or other</td>\n",
              "      <td>Credit reporting agency incorrectly keeps repo...</td>\n",
              "    </tr>\n",
              "    <tr>\n",
              "      <th>863037</th>\n",
              "      <td>Credit reporting, repair, or other</td>\n",
              "      <td>This medical bill was paid to another collecto...</td>\n",
              "    </tr>\n",
              "    <tr>\n",
              "      <th>597294</th>\n",
              "      <td>Credit reporting, repair, or other</td>\n",
              "      <td>I received a call, and my oldest daughter got ...</td>\n",
              "    </tr>\n",
              "    <tr>\n",
              "      <th>301509</th>\n",
              "      <td>Credit reporting, repair, or other</td>\n",
              "      <td>While attempting to get approval for a loan to...</td>\n",
              "    </tr>\n",
              "    <tr>\n",
              "      <th>404336</th>\n",
              "      <td>Credit reporting, repair, or other</td>\n",
              "      <td>On XX/XX/XXXX I sent a letter to Wakefield &amp; A...</td>\n",
              "    </tr>\n",
              "    <tr>\n",
              "      <th>310415</th>\n",
              "      <td>Credit reporting, repair, or other</td>\n",
              "      <td>Portfolio Recov Assoc, Promise to remove the c...</td>\n",
              "    </tr>\n",
              "    <tr>\n",
              "      <th>347164</th>\n",
              "      <td>Credit reporting, repair, or other</td>\n",
              "      <td>XXXX Inquired because someone is trying to use...</td>\n",
              "    </tr>\n",
              "    <tr>\n",
              "      <th>502826</th>\n",
              "      <td>Credit reporting, repair, or other</td>\n",
              "      <td>I have received an unsolicited check from a lo...</td>\n",
              "    </tr>\n",
              "    <tr>\n",
              "      <th>230777</th>\n",
              "      <td>Credit reporting, repair, or other</td>\n",
              "      <td>On XX/XX/XXXX, I received a letter from XXXX X...</td>\n",
              "    </tr>\n",
              "    <tr>\n",
              "      <th>387785</th>\n",
              "      <td>Credit reporting, repair, or other</td>\n",
              "      <td>I have previously filed a complaint against XX...</td>\n",
              "    </tr>\n",
              "    <tr>\n",
              "      <th>466190</th>\n",
              "      <td>Credit reporting, repair, or other</td>\n",
              "      <td>I have notified this company, and have gave th...</td>\n",
              "    </tr>\n",
              "    <tr>\n",
              "      <th>190157</th>\n",
              "      <td>Credit reporting, repair, or other</td>\n",
              "      <td>I was told by XXXX XXXX XXXX XXXX XXXX in XXXX...</td>\n",
              "    </tr>\n",
              "    <tr>\n",
              "      <th>108248</th>\n",
              "      <td>Credit reporting, repair, or other</td>\n",
              "      <td>XXXX has been non-compliant with removing the ...</td>\n",
              "    </tr>\n",
              "    <tr>\n",
              "      <th>338935</th>\n",
              "      <td>Credit reporting, repair, or other</td>\n",
              "      <td>In order to prevent any deception, misrepresen...</td>\n",
              "    </tr>\n",
              "    <tr>\n",
              "      <th>173571</th>\n",
              "      <td>Credit reporting, repair, or other</td>\n",
              "      <td>Subject : XXXX XXXX XXXX Account : XXXX Amount...</td>\n",
              "    </tr>\n",
              "    <tr>\n",
              "      <th>567110</th>\n",
              "      <td>Credit reporting, repair, or other</td>\n",
              "      <td>I have several accounts, address and work plac...</td>\n",
              "    </tr>\n",
              "    <tr>\n",
              "      <th>730535</th>\n",
              "      <td>Credit reporting, repair, or other</td>\n",
              "      <td>I had my report pulled XXXX XXXX, 2015 and dis...</td>\n",
              "    </tr>\n",
              "    <tr>\n",
              "      <th>64693</th>\n",
              "      <td>Credit reporting, repair, or other</td>\n",
              "      <td>I don know anything about this company at all</td>\n",
              "    </tr>\n",
              "    <tr>\n",
              "      <th>232904</th>\n",
              "      <td>Credit reporting, repair, or other</td>\n",
              "      <td>The referenced collection agency has violated ...</td>\n",
              "    </tr>\n",
              "    <tr>\n",
              "      <th>193087</th>\n",
              "      <td>Credit reporting, repair, or other</td>\n",
              "      <td>In XXXX and XXXX of XXXX, I sublet an apartmen...</td>\n",
              "    </tr>\n",
              "    <tr>\n",
              "      <th>107756</th>\n",
              "      <td>Credit reporting, repair, or other</td>\n",
              "      <td>This is the second time that I have requested ...</td>\n",
              "    </tr>\n",
              "    <tr>\n",
              "      <th>279437</th>\n",
              "      <td>Credit reporting, repair, or other</td>\n",
              "      <td>I SENT THEM A DEBT VALIDATION LETTER ON XX/XX/...</td>\n",
              "    </tr>\n",
              "    <tr>\n",
              "      <th>630892</th>\n",
              "      <td>Credit reporting, repair, or other</td>\n",
              "      <td>I paid my debt in full to XXXX. My home loan c...</td>\n",
              "    </tr>\n",
              "    <tr>\n",
              "      <th>663440</th>\n",
              "      <td>Credit reporting, repair, or other</td>\n",
              "      <td>I recently applied for a mortagage and the com...</td>\n",
              "    </tr>\n",
              "    <tr>\n",
              "      <th>295795</th>\n",
              "      <td>Credit reporting, repair, or other</td>\n",
              "      <td>Midwest Recovery Systems has placed informatio...</td>\n",
              "    </tr>\n",
              "    <tr>\n",
              "      <th>519237</th>\n",
              "      <td>Credit reporting, repair, or other</td>\n",
              "      <td>I received a credit change alert on my credit ...</td>\n",
              "    </tr>\n",
              "    <tr>\n",
              "      <th>134062</th>\n",
              "      <td>Credit reporting, repair, or other</td>\n",
              "      <td>I had a temporarily suspended license due to a...</td>\n",
              "    </tr>\n",
              "    <tr>\n",
              "      <th>582934</th>\n",
              "      <td>Credit reporting, repair, or other</td>\n",
              "      <td>I spoke to XXXX from ARS requested I fax copy ...</td>\n",
              "    </tr>\n",
              "    <tr>\n",
              "      <th>170582</th>\n",
              "      <td>Credit reporting, repair, or other</td>\n",
              "      <td>There are incorrect addresses, phone numbers a...</td>\n",
              "    </tr>\n",
              "    <tr>\n",
              "      <th>525352</th>\n",
              "      <td>Credit reporting, repair, or other</td>\n",
              "      <td>XXXX Apartments continued to charge me after I...</td>\n",
              "    </tr>\n",
              "    <tr>\n",
              "      <th>49478</th>\n",
              "      <td>Credit reporting, repair, or other</td>\n",
              "      <td>To whom it may concern On XX/XX/XXXX Radius Gl...</td>\n",
              "    </tr>\n",
              "    <tr>\n",
              "      <th>191206</th>\n",
              "      <td>Credit reporting, repair, or other</td>\n",
              "      <td>XXXX : National Consumer Assistance Center XXX...</td>\n",
              "    </tr>\n",
              "    <tr>\n",
              "      <th>482723</th>\n",
              "      <td>Credit reporting, repair, or other</td>\n",
              "      <td>on  XXXX / XXXX / XXXX , I requested Experian,...</td>\n",
              "    </tr>\n",
              "    <tr>\n",
              "      <th>457189</th>\n",
              "      <td>Credit reporting, repair, or other</td>\n",
              "      <td>I paid off a collection with this company over...</td>\n",
              "    </tr>\n",
              "    <tr>\n",
              "      <th>346412</th>\n",
              "      <td>Credit reporting, repair, or other</td>\n",
              "      <td>My credit score has been lowered from the XXXX...</td>\n",
              "    </tr>\n",
              "    <tr>\n",
              "      <th>341754</th>\n",
              "      <td>Credit reporting, repair, or other</td>\n",
              "      <td>This company fraudulantly posted a collections...</td>\n",
              "    </tr>\n",
              "    <tr>\n",
              "      <th>58004</th>\n",
              "      <td>Credit reporting, repair, or other</td>\n",
              "      <td>I was sent a letter by Americor to settle my d...</td>\n",
              "    </tr>\n",
              "    <tr>\n",
              "      <th>826812</th>\n",
              "      <td>Credit reporting, repair, or other</td>\n",
              "      <td>I checked my credit report and I found out tha...</td>\n",
              "    </tr>\n",
              "    <tr>\n",
              "      <th>264862</th>\n",
              "      <td>Credit reporting, repair, or other</td>\n",
              "      <td>I opened a dispute XX/XX/XXXX with Experian an...</td>\n",
              "    </tr>\n",
              "    <tr>\n",
              "      <th>890841</th>\n",
              "      <td>Credit reporting, repair, or other</td>\n",
              "      <td>Negative info is about an account with XXXX wh...</td>\n",
              "    </tr>\n",
              "    <tr>\n",
              "      <th>173409</th>\n",
              "      <td>Credit reporting, repair, or other</td>\n",
              "      <td>XXXX XXXXXXXX XXXX is inaccurately reporting a...</td>\n",
              "    </tr>\n",
              "    <tr>\n",
              "      <th>429357</th>\n",
              "      <td>Credit reporting, repair, or other</td>\n",
              "      <td>Nationwide Recovery Services is reporting thre...</td>\n",
              "    </tr>\n",
              "    <tr>\n",
              "      <th>126662</th>\n",
              "      <td>Credit reporting, repair, or other</td>\n",
              "      <td>Information is incorrect. Never have gotten an...</td>\n",
              "    </tr>\n",
              "    <tr>\n",
              "      <th>880096</th>\n",
              "      <td>Credit reporting, repair, or other</td>\n",
              "      <td>Collection Agency : XXXXIs reporting inaccurat...</td>\n",
              "    </tr>\n",
              "    <tr>\n",
              "      <th>113873</th>\n",
              "      <td>Credit reporting, repair, or other</td>\n",
              "      <td>Im having a problem with XXXX XXXX XXXX states...</td>\n",
              "    </tr>\n",
              "  </tbody>\n",
              "</table>\n",
              "</div>"
            ],
            "text/plain": [
              "                                   Product                                 Consumer_Complaint\n",
              "167717  Credit reporting, repair, or other  When my vehicle was repossessed in XX/XX/2017 ...\n",
              "131925  Credit reporting, repair, or other  I submitted a dispute online on a debt with XX...\n",
              "675868  Credit reporting, repair, or other  My name is XXXX XXXX. Your collection agency i...\n",
              "370575  Credit reporting, repair, or other  Credit reporting agency incorrectly keeps repo...\n",
              "863037  Credit reporting, repair, or other  This medical bill was paid to another collecto...\n",
              "597294  Credit reporting, repair, or other  I received a call, and my oldest daughter got ...\n",
              "301509  Credit reporting, repair, or other  While attempting to get approval for a loan to...\n",
              "404336  Credit reporting, repair, or other  On XX/XX/XXXX I sent a letter to Wakefield & A...\n",
              "310415  Credit reporting, repair, or other  Portfolio Recov Assoc, Promise to remove the c...\n",
              "347164  Credit reporting, repair, or other  XXXX Inquired because someone is trying to use...\n",
              "502826  Credit reporting, repair, or other  I have received an unsolicited check from a lo...\n",
              "230777  Credit reporting, repair, or other  On XX/XX/XXXX, I received a letter from XXXX X...\n",
              "387785  Credit reporting, repair, or other  I have previously filed a complaint against XX...\n",
              "466190  Credit reporting, repair, or other  I have notified this company, and have gave th...\n",
              "190157  Credit reporting, repair, or other  I was told by XXXX XXXX XXXX XXXX XXXX in XXXX...\n",
              "108248  Credit reporting, repair, or other  XXXX has been non-compliant with removing the ...\n",
              "338935  Credit reporting, repair, or other  In order to prevent any deception, misrepresen...\n",
              "173571  Credit reporting, repair, or other  Subject : XXXX XXXX XXXX Account : XXXX Amount...\n",
              "567110  Credit reporting, repair, or other  I have several accounts, address and work plac...\n",
              "730535  Credit reporting, repair, or other  I had my report pulled XXXX XXXX, 2015 and dis...\n",
              "64693   Credit reporting, repair, or other      I don know anything about this company at all\n",
              "232904  Credit reporting, repair, or other  The referenced collection agency has violated ...\n",
              "193087  Credit reporting, repair, or other  In XXXX and XXXX of XXXX, I sublet an apartmen...\n",
              "107756  Credit reporting, repair, or other  This is the second time that I have requested ...\n",
              "279437  Credit reporting, repair, or other  I SENT THEM A DEBT VALIDATION LETTER ON XX/XX/...\n",
              "630892  Credit reporting, repair, or other  I paid my debt in full to XXXX. My home loan c...\n",
              "663440  Credit reporting, repair, or other  I recently applied for a mortagage and the com...\n",
              "295795  Credit reporting, repair, or other  Midwest Recovery Systems has placed informatio...\n",
              "519237  Credit reporting, repair, or other  I received a credit change alert on my credit ...\n",
              "134062  Credit reporting, repair, or other  I had a temporarily suspended license due to a...\n",
              "582934  Credit reporting, repair, or other  I spoke to XXXX from ARS requested I fax copy ...\n",
              "170582  Credit reporting, repair, or other  There are incorrect addresses, phone numbers a...\n",
              "525352  Credit reporting, repair, or other  XXXX Apartments continued to charge me after I...\n",
              "49478   Credit reporting, repair, or other  To whom it may concern On XX/XX/XXXX Radius Gl...\n",
              "191206  Credit reporting, repair, or other  XXXX : National Consumer Assistance Center XXX...\n",
              "482723  Credit reporting, repair, or other  on  XXXX / XXXX / XXXX , I requested Experian,...\n",
              "457189  Credit reporting, repair, or other  I paid off a collection with this company over...\n",
              "346412  Credit reporting, repair, or other  My credit score has been lowered from the XXXX...\n",
              "341754  Credit reporting, repair, or other  This company fraudulantly posted a collections...\n",
              "58004   Credit reporting, repair, or other  I was sent a letter by Americor to settle my d...\n",
              "826812  Credit reporting, repair, or other  I checked my credit report and I found out tha...\n",
              "264862  Credit reporting, repair, or other  I opened a dispute XX/XX/XXXX with Experian an...\n",
              "890841  Credit reporting, repair, or other  Negative info is about an account with XXXX wh...\n",
              "173409  Credit reporting, repair, or other  XXXX XXXXXXXX XXXX is inaccurately reporting a...\n",
              "429357  Credit reporting, repair, or other  Nationwide Recovery Services is reporting thre...\n",
              "126662  Credit reporting, repair, or other  Information is incorrect. Never have gotten an...\n",
              "880096  Credit reporting, repair, or other  Collection Agency : XXXXIs reporting inaccurat...\n",
              "113873  Credit reporting, repair, or other  Im having a problem with XXXX XXXX XXXX states..."
            ]
          },
          "metadata": {
            "tags": []
          }
        },
        {
          "output_type": "stream",
          "text": [
            "\n",
            "\n",
            "'Credit card or prepaid card' predicted as 'Debt collection': 21 examples.\n",
            "\n"
          ],
          "name": "stdout"
        },
        {
          "output_type": "display_data",
          "data": {
            "text/html": [
              "<div>\n",
              "<style scoped>\n",
              "    .dataframe tbody tr th:only-of-type {\n",
              "        vertical-align: middle;\n",
              "    }\n",
              "\n",
              "    .dataframe tbody tr th {\n",
              "        vertical-align: top;\n",
              "    }\n",
              "\n",
              "    .dataframe thead th {\n",
              "        text-align: right;\n",
              "    }\n",
              "</style>\n",
              "<table border=\"1\" class=\"dataframe\">\n",
              "  <thead>\n",
              "    <tr style=\"text-align: right;\">\n",
              "      <th></th>\n",
              "      <th>Product</th>\n",
              "      <th>Consumer_Complaint</th>\n",
              "    </tr>\n",
              "  </thead>\n",
              "  <tbody>\n",
              "    <tr>\n",
              "      <th>427835</th>\n",
              "      <td>Credit card or prepaid card</td>\n",
              "      <td>XXXX would not honor an offer to credit {$50.0...</td>\n",
              "    </tr>\n",
              "    <tr>\n",
              "      <th>468331</th>\n",
              "      <td>Credit card or prepaid card</td>\n",
              "      <td>hi I 'm on payment program with American expre...</td>\n",
              "    </tr>\n",
              "    <tr>\n",
              "      <th>36821</th>\n",
              "      <td>Credit card or prepaid card</td>\n",
              "      <td>I am corresponding about my XXXX XXXX XXXX, wh...</td>\n",
              "    </tr>\n",
              "    <tr>\n",
              "      <th>681770</th>\n",
              "      <td>Credit card or prepaid card</td>\n",
              "      <td>I sent the following message to Capital One on...</td>\n",
              "    </tr>\n",
              "    <tr>\n",
              "      <th>859065</th>\n",
              "      <td>Credit card or prepaid card</td>\n",
              "      <td>I had several attempts to get information abou...</td>\n",
              "    </tr>\n",
              "    <tr>\n",
              "      <th>504540</th>\n",
              "      <td>Credit card or prepaid card</td>\n",
              "      <td>This is in regards to BOTH a  Total Visa  acco...</td>\n",
              "    </tr>\n",
              "    <tr>\n",
              "      <th>872562</th>\n",
              "      <td>Credit card or prepaid card</td>\n",
              "      <td>I used a debt relief agency to pay my debts ( ...</td>\n",
              "    </tr>\n",
              "    <tr>\n",
              "      <th>609682</th>\n",
              "      <td>Credit card or prepaid card</td>\n",
              "      <td>I have a letter stating from American Express ...</td>\n",
              "    </tr>\n",
              "    <tr>\n",
              "      <th>907179</th>\n",
              "      <td>Credit card or prepaid card</td>\n",
              "      <td>I keep getting a robo call ( XXXX ) threatenin...</td>\n",
              "    </tr>\n",
              "    <tr>\n",
              "      <th>517845</th>\n",
              "      <td>Credit card or prepaid card</td>\n",
              "      <td>Bank of America is refusing to produce proof o...</td>\n",
              "    </tr>\n",
              "    <tr>\n",
              "      <th>695931</th>\n",
              "      <td>Credit card or prepaid card</td>\n",
              "      <td>While making dinner on XXXX XXXX 2016, I recei...</td>\n",
              "    </tr>\n",
              "    <tr>\n",
              "      <th>237995</th>\n",
              "      <td>Credit card or prepaid card</td>\n",
              "      <td>I am a day late on a payment I have been getti...</td>\n",
              "    </tr>\n",
              "    <tr>\n",
              "      <th>905942</th>\n",
              "      <td>Credit card or prepaid card</td>\n",
              "      <td>After years and years and numerous attempts of...</td>\n",
              "    </tr>\n",
              "    <tr>\n",
              "      <th>636116</th>\n",
              "      <td>Credit card or prepaid card</td>\n",
              "      <td>Chase Bank is reporting a negative charge off ...</td>\n",
              "    </tr>\n",
              "    <tr>\n",
              "      <th>663682</th>\n",
              "      <td>Credit card or prepaid card</td>\n",
              "      <td>Since Synchronicity bank replace XXXX XX/XX/20...</td>\n",
              "    </tr>\n",
              "    <tr>\n",
              "      <th>645824</th>\n",
              "      <td>Credit card or prepaid card</td>\n",
              "      <td>I received a collection letter from XXXX in XX...</td>\n",
              "    </tr>\n",
              "    <tr>\n",
              "      <th>675567</th>\n",
              "      <td>Credit card or prepaid card</td>\n",
              "      <td>Capital One allowed a charge of {$1200.00} to ...</td>\n",
              "    </tr>\n",
              "    <tr>\n",
              "      <th>224729</th>\n",
              "      <td>Credit card or prepaid card</td>\n",
              "      <td>I have not been getting my statement and when ...</td>\n",
              "    </tr>\n",
              "    <tr>\n",
              "      <th>845167</th>\n",
              "      <td>Credit card or prepaid card</td>\n",
              "      <td>I called customer service at XXXX at the numbe...</td>\n",
              "    </tr>\n",
              "    <tr>\n",
              "      <th>749944</th>\n",
              "      <td>Credit card or prepaid card</td>\n",
              "      <td>Bank of America has an old debt of mine that t...</td>\n",
              "    </tr>\n",
              "    <tr>\n",
              "      <th>783908</th>\n",
              "      <td>Credit card or prepaid card</td>\n",
              "      <td>On XXXX XXXX, 2015 I received a bill of {$60.0...</td>\n",
              "    </tr>\n",
              "  </tbody>\n",
              "</table>\n",
              "</div>"
            ],
            "text/plain": [
              "                            Product                                 Consumer_Complaint\n",
              "427835  Credit card or prepaid card  XXXX would not honor an offer to credit {$50.0...\n",
              "468331  Credit card or prepaid card  hi I 'm on payment program with American expre...\n",
              "36821   Credit card or prepaid card  I am corresponding about my XXXX XXXX XXXX, wh...\n",
              "681770  Credit card or prepaid card  I sent the following message to Capital One on...\n",
              "859065  Credit card or prepaid card  I had several attempts to get information abou...\n",
              "504540  Credit card or prepaid card  This is in regards to BOTH a  Total Visa  acco...\n",
              "872562  Credit card or prepaid card  I used a debt relief agency to pay my debts ( ...\n",
              "609682  Credit card or prepaid card  I have a letter stating from American Express ...\n",
              "907179  Credit card or prepaid card  I keep getting a robo call ( XXXX ) threatenin...\n",
              "517845  Credit card or prepaid card  Bank of America is refusing to produce proof o...\n",
              "695931  Credit card or prepaid card  While making dinner on XXXX XXXX 2016, I recei...\n",
              "237995  Credit card or prepaid card  I am a day late on a payment I have been getti...\n",
              "905942  Credit card or prepaid card  After years and years and numerous attempts of...\n",
              "636116  Credit card or prepaid card  Chase Bank is reporting a negative charge off ...\n",
              "663682  Credit card or prepaid card  Since Synchronicity bank replace XXXX XX/XX/20...\n",
              "645824  Credit card or prepaid card  I received a collection letter from XXXX in XX...\n",
              "675567  Credit card or prepaid card  Capital One allowed a charge of {$1200.00} to ...\n",
              "224729  Credit card or prepaid card  I have not been getting my statement and when ...\n",
              "845167  Credit card or prepaid card  I called customer service at XXXX at the numbe...\n",
              "749944  Credit card or prepaid card  Bank of America has an old debt of mine that t...\n",
              "783908  Credit card or prepaid card  On XXXX XXXX, 2015 I received a bill of {$60.0..."
            ]
          },
          "metadata": {
            "tags": []
          }
        },
        {
          "output_type": "stream",
          "text": [
            "\n",
            "\n",
            "'Credit reporting, repair, or other' predicted as 'Credit card or prepaid card': 22 examples.\n",
            "\n"
          ],
          "name": "stdout"
        },
        {
          "output_type": "display_data",
          "data": {
            "text/html": [
              "<div>\n",
              "<style scoped>\n",
              "    .dataframe tbody tr th:only-of-type {\n",
              "        vertical-align: middle;\n",
              "    }\n",
              "\n",
              "    .dataframe tbody tr th {\n",
              "        vertical-align: top;\n",
              "    }\n",
              "\n",
              "    .dataframe thead th {\n",
              "        text-align: right;\n",
              "    }\n",
              "</style>\n",
              "<table border=\"1\" class=\"dataframe\">\n",
              "  <thead>\n",
              "    <tr style=\"text-align: right;\">\n",
              "      <th></th>\n",
              "      <th>Product</th>\n",
              "      <th>Consumer_Complaint</th>\n",
              "    </tr>\n",
              "  </thead>\n",
              "  <tbody>\n",
              "    <tr>\n",
              "      <th>184965</th>\n",
              "      <td>Credit reporting, repair, or other</td>\n",
              "      <td>XXXX is a company of XXXX and XXXX XXXX  up my...</td>\n",
              "    </tr>\n",
              "    <tr>\n",
              "      <th>846410</th>\n",
              "      <td>Credit reporting, repair, or other</td>\n",
              "      <td>There is incorrect credit card showing up on m...</td>\n",
              "    </tr>\n",
              "    <tr>\n",
              "      <th>192020</th>\n",
              "      <td>Credit reporting, repair, or other</td>\n",
              "      <td>I went to the Capital One web site to apply fo...</td>\n",
              "    </tr>\n",
              "    <tr>\n",
              "      <th>265650</th>\n",
              "      <td>Credit reporting, repair, or other</td>\n",
              "      <td>XXXX XXXX XXXX reported my account as charged ...</td>\n",
              "    </tr>\n",
              "    <tr>\n",
              "      <th>301997</th>\n",
              "      <td>Credit reporting, repair, or other</td>\n",
              "      <td>XXXX Barclay , XXXX and XXXX are not updating ...</td>\n",
              "    </tr>\n",
              "    <tr>\n",
              "      <th>473355</th>\n",
              "      <td>Credit reporting, repair, or other</td>\n",
              "      <td>Company : USAA Summary of events : About XXXX ...</td>\n",
              "    </tr>\n",
              "    <tr>\n",
              "      <th>257154</th>\n",
              "      <td>Credit reporting, repair, or other</td>\n",
              "      <td>I had an automatic payment of {$50.00} schedul...</td>\n",
              "    </tr>\n",
              "    <tr>\n",
              "      <th>168845</th>\n",
              "      <td>Credit reporting, repair, or other</td>\n",
              "      <td>It percieved XXXX and other credit reporting a...</td>\n",
              "    </tr>\n",
              "    <tr>\n",
              "      <th>421206</th>\n",
              "      <td>Credit reporting, repair, or other</td>\n",
              "      <td>Unable to get by bots or reach by telephone. C...</td>\n",
              "    </tr>\n",
              "    <tr>\n",
              "      <th>49300</th>\n",
              "      <td>Credit reporting, repair, or other</td>\n",
              "      <td>In XX/XX/XXXX I needed a credit card to use to...</td>\n",
              "    </tr>\n",
              "    <tr>\n",
              "      <th>426514</th>\n",
              "      <td>Credit reporting, repair, or other</td>\n",
              "      <td>I was never eligible to receive a credit card ...</td>\n",
              "    </tr>\n",
              "    <tr>\n",
              "      <th>43521</th>\n",
              "      <td>Credit reporting, repair, or other</td>\n",
              "      <td>I have a CitiBank Citicard XXXX XXXX credit ca...</td>\n",
              "    </tr>\n",
              "    <tr>\n",
              "      <th>212148</th>\n",
              "      <td>Credit reporting, repair, or other</td>\n",
              "      <td>Someone keeps trying to apply for credit cards...</td>\n",
              "    </tr>\n",
              "    <tr>\n",
              "      <th>582339</th>\n",
              "      <td>Credit reporting, repair, or other</td>\n",
              "      <td>Capital one ending in XXXX lost XXXX of my pay...</td>\n",
              "    </tr>\n",
              "    <tr>\n",
              "      <th>464320</th>\n",
              "      <td>Credit reporting, repair, or other</td>\n",
              "      <td>Called in to customer svc to make XXXX payment...</td>\n",
              "    </tr>\n",
              "    <tr>\n",
              "      <th>107395</th>\n",
              "      <td>Credit reporting, repair, or other</td>\n",
              "      <td>I believe I reported this problem to you previ...</td>\n",
              "    </tr>\n",
              "    <tr>\n",
              "      <th>650841</th>\n",
              "      <td>Credit reporting, repair, or other</td>\n",
              "      <td>I have a XXXX Account for many years and have ...</td>\n",
              "    </tr>\n",
              "    <tr>\n",
              "      <th>361351</th>\n",
              "      <td>Credit reporting, repair, or other</td>\n",
              "      <td>A Sears worker tricked me into applying for a ...</td>\n",
              "    </tr>\n",
              "    <tr>\n",
              "      <th>154847</th>\n",
              "      <td>Credit reporting, repair, or other</td>\n",
              "      <td>XXXX XXXX credit card I dont have the exact am...</td>\n",
              "    </tr>\n",
              "    <tr>\n",
              "      <th>181829</th>\n",
              "      <td>Credit reporting, repair, or other</td>\n",
              "      <td>There are items still showing up on my credit ...</td>\n",
              "    </tr>\n",
              "    <tr>\n",
              "      <th>246980</th>\n",
              "      <td>Credit reporting, repair, or other</td>\n",
              "      <td>My credit report is stating that I have four (...</td>\n",
              "    </tr>\n",
              "    <tr>\n",
              "      <th>93966</th>\n",
              "      <td>Credit reporting, repair, or other</td>\n",
              "      <td>Dear Sir/Madan, We reported Credit Card lost i...</td>\n",
              "    </tr>\n",
              "  </tbody>\n",
              "</table>\n",
              "</div>"
            ],
            "text/plain": [
              "                                   Product                                 Consumer_Complaint\n",
              "184965  Credit reporting, repair, or other  XXXX is a company of XXXX and XXXX XXXX  up my...\n",
              "846410  Credit reporting, repair, or other  There is incorrect credit card showing up on m...\n",
              "192020  Credit reporting, repair, or other  I went to the Capital One web site to apply fo...\n",
              "265650  Credit reporting, repair, or other  XXXX XXXX XXXX reported my account as charged ...\n",
              "301997  Credit reporting, repair, or other  XXXX Barclay , XXXX and XXXX are not updating ...\n",
              "473355  Credit reporting, repair, or other  Company : USAA Summary of events : About XXXX ...\n",
              "257154  Credit reporting, repair, or other  I had an automatic payment of {$50.00} schedul...\n",
              "168845  Credit reporting, repair, or other  It percieved XXXX and other credit reporting a...\n",
              "421206  Credit reporting, repair, or other  Unable to get by bots or reach by telephone. C...\n",
              "49300   Credit reporting, repair, or other  In XX/XX/XXXX I needed a credit card to use to...\n",
              "426514  Credit reporting, repair, or other  I was never eligible to receive a credit card ...\n",
              "43521   Credit reporting, repair, or other  I have a CitiBank Citicard XXXX XXXX credit ca...\n",
              "212148  Credit reporting, repair, or other  Someone keeps trying to apply for credit cards...\n",
              "582339  Credit reporting, repair, or other  Capital one ending in XXXX lost XXXX of my pay...\n",
              "464320  Credit reporting, repair, or other  Called in to customer svc to make XXXX payment...\n",
              "107395  Credit reporting, repair, or other  I believe I reported this problem to you previ...\n",
              "650841  Credit reporting, repair, or other  I have a XXXX Account for many years and have ...\n",
              "361351  Credit reporting, repair, or other  A Sears worker tricked me into applying for a ...\n",
              "154847  Credit reporting, repair, or other  XXXX XXXX credit card I dont have the exact am...\n",
              "181829  Credit reporting, repair, or other  There are items still showing up on my credit ...\n",
              "246980  Credit reporting, repair, or other  My credit report is stating that I have four (...\n",
              "93966   Credit reporting, repair, or other  Dear Sir/Madan, We reported Credit Card lost i..."
            ]
          },
          "metadata": {
            "tags": []
          }
        },
        {
          "output_type": "stream",
          "text": [
            "\n",
            "\n",
            "'Bank account or service' predicted as 'Checking or savings account': 23 examples.\n",
            "\n"
          ],
          "name": "stdout"
        },
        {
          "output_type": "display_data",
          "data": {
            "text/html": [
              "<div>\n",
              "<style scoped>\n",
              "    .dataframe tbody tr th:only-of-type {\n",
              "        vertical-align: middle;\n",
              "    }\n",
              "\n",
              "    .dataframe tbody tr th {\n",
              "        vertical-align: top;\n",
              "    }\n",
              "\n",
              "    .dataframe thead th {\n",
              "        text-align: right;\n",
              "    }\n",
              "</style>\n",
              "<table border=\"1\" class=\"dataframe\">\n",
              "  <thead>\n",
              "    <tr style=\"text-align: right;\">\n",
              "      <th></th>\n",
              "      <th>Product</th>\n",
              "      <th>Consumer_Complaint</th>\n",
              "    </tr>\n",
              "  </thead>\n",
              "  <tbody>\n",
              "    <tr>\n",
              "      <th>655179</th>\n",
              "      <td>Bank account or service</td>\n",
              "      <td>My email is XXXXXXXXXXXX and I never got to pr...</td>\n",
              "    </tr>\n",
              "    <tr>\n",
              "      <th>540543</th>\n",
              "      <td>Bank account or service</td>\n",
              "      <td>HSBC refuses to confirm the date my account wa...</td>\n",
              "    </tr>\n",
              "    <tr>\n",
              "      <th>655963</th>\n",
              "      <td>Bank account or service</td>\n",
              "      <td>Bank of America has charged me numerous XXXX f...</td>\n",
              "    </tr>\n",
              "    <tr>\n",
              "      <th>593920</th>\n",
              "      <td>Bank account or service</td>\n",
              "      <td>My complaint is with Capital One 360 ; they do...</td>\n",
              "    </tr>\n",
              "    <tr>\n",
              "      <th>692350</th>\n",
              "      <td>Bank account or service</td>\n",
              "      <td>My name is XXXX, I am my father 's heir &amp; the ...</td>\n",
              "    </tr>\n",
              "    <tr>\n",
              "      <th>760899</th>\n",
              "      <td>Bank account or service</td>\n",
              "      <td>I have a XXXX IRA with Capital One 360. My mob...</td>\n",
              "    </tr>\n",
              "    <tr>\n",
              "      <th>674009</th>\n",
              "      <td>Bank account or service</td>\n",
              "      <td>On XXXX XXXX 2016, I 'd visited the Wells Farg...</td>\n",
              "    </tr>\n",
              "    <tr>\n",
              "      <th>541558</th>\n",
              "      <td>Bank account or service</td>\n",
              "      <td>On XXXX my husband deposited {$400.00} through...</td>\n",
              "    </tr>\n",
              "    <tr>\n",
              "      <th>547387</th>\n",
              "      <td>Bank account or service</td>\n",
              "      <td>On XX/XX/XXXX, a merchant presented an electro...</td>\n",
              "    </tr>\n",
              "    <tr>\n",
              "      <th>816633</th>\n",
              "      <td>Bank account or service</td>\n",
              "      <td>On XXXX I deposited an insurance claim check (...</td>\n",
              "    </tr>\n",
              "    <tr>\n",
              "      <th>638111</th>\n",
              "      <td>Bank account or service</td>\n",
              "      <td>Numerous banks and credit unions offer peer-to...</td>\n",
              "    </tr>\n",
              "    <tr>\n",
              "      <th>821682</th>\n",
              "      <td>Bank account or service</td>\n",
              "      <td>I check my account every morning and noticed o...</td>\n",
              "    </tr>\n",
              "    <tr>\n",
              "      <th>689658</th>\n",
              "      <td>Bank account or service</td>\n",
              "      <td>I went into the branch of Chase Bank and reque...</td>\n",
              "    </tr>\n",
              "    <tr>\n",
              "      <th>573284</th>\n",
              "      <td>Bank account or service</td>\n",
              "      <td>Hello, I am writing to report what I believe t...</td>\n",
              "    </tr>\n",
              "    <tr>\n",
              "      <th>597151</th>\n",
              "      <td>Bank account or service</td>\n",
              "      <td>I had a small business merchant banking accoun...</td>\n",
              "    </tr>\n",
              "    <tr>\n",
              "      <th>677276</th>\n",
              "      <td>Bank account or service</td>\n",
              "      <td>PayPal closed my accounts and refused to rever...</td>\n",
              "    </tr>\n",
              "    <tr>\n",
              "      <th>894334</th>\n",
              "      <td>Bank account or service</td>\n",
              "      <td>Last year, I finished my unfinished basement. ...</td>\n",
              "    </tr>\n",
              "    <tr>\n",
              "      <th>659745</th>\n",
              "      <td>Bank account or service</td>\n",
              "      <td>We deposited a check into our business account...</td>\n",
              "    </tr>\n",
              "    <tr>\n",
              "      <th>777510</th>\n",
              "      <td>Bank account or service</td>\n",
              "      <td>I opened an account with Suntrust Bank and les...</td>\n",
              "    </tr>\n",
              "    <tr>\n",
              "      <th>696139</th>\n",
              "      <td>Bank account or service</td>\n",
              "      <td>My boyfriend and I have an account with US Ban...</td>\n",
              "    </tr>\n",
              "    <tr>\n",
              "      <th>755689</th>\n",
              "      <td>Bank account or service</td>\n",
              "      <td>My spouse &amp; i have banked with Wells Fargo for...</td>\n",
              "    </tr>\n",
              "    <tr>\n",
              "      <th>748135</th>\n",
              "      <td>Bank account or service</td>\n",
              "      <td>Chase bank re ordered the processing of debit ...</td>\n",
              "    </tr>\n",
              "    <tr>\n",
              "      <th>822616</th>\n",
              "      <td>Bank account or service</td>\n",
              "      <td>On XXXX/XXXX/15 I received an email that my ac...</td>\n",
              "    </tr>\n",
              "  </tbody>\n",
              "</table>\n",
              "</div>"
            ],
            "text/plain": [
              "                        Product                                 Consumer_Complaint\n",
              "655179  Bank account or service  My email is XXXXXXXXXXXX and I never got to pr...\n",
              "540543  Bank account or service  HSBC refuses to confirm the date my account wa...\n",
              "655963  Bank account or service  Bank of America has charged me numerous XXXX f...\n",
              "593920  Bank account or service  My complaint is with Capital One 360 ; they do...\n",
              "692350  Bank account or service  My name is XXXX, I am my father 's heir & the ...\n",
              "760899  Bank account or service  I have a XXXX IRA with Capital One 360. My mob...\n",
              "674009  Bank account or service  On XXXX XXXX 2016, I 'd visited the Wells Farg...\n",
              "541558  Bank account or service  On XXXX my husband deposited {$400.00} through...\n",
              "547387  Bank account or service  On XX/XX/XXXX, a merchant presented an electro...\n",
              "816633  Bank account or service  On XXXX I deposited an insurance claim check (...\n",
              "638111  Bank account or service  Numerous banks and credit unions offer peer-to...\n",
              "821682  Bank account or service  I check my account every morning and noticed o...\n",
              "689658  Bank account or service  I went into the branch of Chase Bank and reque...\n",
              "573284  Bank account or service  Hello, I am writing to report what I believe t...\n",
              "597151  Bank account or service  I had a small business merchant banking accoun...\n",
              "677276  Bank account or service  PayPal closed my accounts and refused to rever...\n",
              "894334  Bank account or service  Last year, I finished my unfinished basement. ...\n",
              "659745  Bank account or service  We deposited a check into our business account...\n",
              "777510  Bank account or service  I opened an account with Suntrust Bank and les...\n",
              "696139  Bank account or service  My boyfriend and I have an account with US Ban...\n",
              "755689  Bank account or service  My spouse & i have banked with Wells Fargo for...\n",
              "748135  Bank account or service  Chase bank re ordered the processing of debit ...\n",
              "822616  Bank account or service  On XXXX/XXXX/15 I received an email that my ac..."
            ]
          },
          "metadata": {
            "tags": []
          }
        },
        {
          "output_type": "stream",
          "text": [
            "\n"
          ],
          "name": "stdout"
        }
      ]
    },
    {
      "cell_type": "markdown",
      "metadata": {
        "id": "c6m2eQRLleY7"
      },
      "source": [
        "Most correlated terms with each category"
      ]
    },
    {
      "cell_type": "code",
      "metadata": {
        "colab": {
          "base_uri": "https://localhost:8080/"
        },
        "id": "TjD65R9vkw69",
        "outputId": "889d4b84-6a82-4580-a35b-e199120461a2"
      },
      "source": [
        "model.fit(features, labels)\n",
        "\n",
        "N = 4\n",
        "for Product, category_id in sorted(category_to_id.items()):\n",
        "  indices = np.argsort(model.coef_[category_id])\n",
        "  feature_names = np.array(tfidf.get_feature_names())[indices]\n",
        "  unigrams = [v for v in reversed(feature_names) if len(v.split(' ')) == 1][:N]\n",
        "  bigrams = [v for v in reversed(feature_names) if len(v.split(' ')) == 2][:N]\n",
        "  print(\"\\n==> '{}':\".format(Product))\n",
        "  print(\"  * Top unigrams: %s\" %(', '.join(unigrams)))\n",
        "  print(\"  * Top bigrams: %s\" %(', '.join(bigrams)))"
      ],
      "execution_count": 60,
      "outputs": [
        {
          "output_type": "stream",
          "text": [
            "\n",
            "==> 'Bank account or service':\n",
            "  * Top unigrams: bank, scottrade, deposit, suntrust\n",
            "  * Top bigrams: bank xxxx, check account, debit card, xx 2016\n",
            "\n",
            "==> 'Checking or savings account':\n",
            "  * Top unigrams: bank, transactions, bonus, branch\n",
            "  * Top bigrams: debit card, xxxx 2017, overdraft fees, account information\n",
            "\n",
            "==> 'Consumer Loan':\n",
            "  * Top unigrams: car, furniture, title, loan\n",
            "  * Top bigrams: vehicle loan, lien release, regional acceptance, xxxx constantly\n",
            "\n",
            "==> 'Credit card or prepaid card':\n",
            "  * Top unigrams: card, capital, citi, amex\n",
            "  * Top bigrams: american express, use card, balance transfer, annual fee\n",
            "\n",
            "==> 'Credit reporting, repair, or other':\n",
            "  * Top unigrams: equifax, experian, transunion, report\n",
            "  * Top bigrams: xxxx reported, equifax xxxx, xxxx xxxx, trans union\n",
            "\n",
            "==> 'Debt collection':\n",
            "  * Top unigrams: debt, collection, collections, owe\n",
            "  * Top bigrams: credit services, trying collect, violation knowledge, account credit\n",
            "\n",
            "==> 'Money transfer, virtual currency, or money service':\n",
            "  * Top unigrams: coinbase, seller, money, support\n",
            "  * Top bigrams: able receive, bank account, western union, money transfer\n",
            "\n",
            "==> 'Money transfers':\n",
            "  * Top unigrams: paypal, gram, moneygram, money\n",
            "  * Top bigrams: money gram, wire transfer, reported wrong, sending money\n",
            "\n",
            "==> 'Mortgage':\n",
            "  * Top unigrams: mortgage, escrow, modification, home\n",
            "  * Top bigrams: mortgage company, escrow account, home xxxx, mortgage xxxx\n",
            "\n",
            "==> 'Other financial service':\n",
            "  * Top unigrams: vast, productive, advertised, improvement\n",
            "  * Top bigrams: face face, stop payment, check payable, repair credit\n",
            "\n",
            "==> 'Payday loan, title loan, or personal loan':\n",
            "  * Top unigrams: loan, payday, apr, rate\n",
            "  * Top bigrams: ad astra, loan xx, payday loan, personal loan\n",
            "\n",
            "==> 'Student loan':\n",
            "  * Top unigrams: navient, loans, school, student\n",
            "  * Top bigrams: sallie mae, payments credit, student loan, income based\n",
            "\n",
            "==> 'Vehicle loan or lease':\n",
            "  * Top unigrams: vehicle, honda, lease, car\n",
            "  * Top bigrams: xxxx car, payments dates, account response, honda financial\n"
          ],
          "name": "stdout"
        }
      ]
    },
    {
      "cell_type": "code",
      "metadata": {
        "id": "WxFlbbPrlonR"
      },
      "source": [
        "X_train, X_test, y_train, y_test = train_test_split(X, y, \n",
        "                                                    test_size=0.25,\n",
        "                                                    random_state = 0)\n",
        "\n",
        "tfidf = TfidfVectorizer(sublinear_tf=True, min_df=5,\n",
        "                        ngram_range=(1, 2), \n",
        "                        stop_words='english')\n",
        "\n",
        "fitted_vectorizer = tfidf.fit(X_train)\n",
        "tfidf_vectorizer_vectors = fitted_vectorizer.transform(X_train)\n",
        "\n",
        "model = LinearSVC().fit(tfidf_vectorizer_vectors, y_train)"
      ],
      "execution_count": 61,
      "outputs": []
    },
    {
      "cell_type": "code",
      "metadata": {
        "colab": {
          "base_uri": "https://localhost:8080/"
        },
        "id": "m95GyhdbmTbz",
        "outputId": "83fb7a1e-cb31-4d0c-dfaf-480de6bceb25"
      },
      "source": [
        "new_complaint = \"\"\"I have been enrolled back at XXXX XXXX University in the XX/XX/XXXX. Recently, i have been harassed by \\\n",
        "Navient for the last month. I have faxed in paperwork providing them with everything they needed. And yet I am still getting \\\n",
        "phone calls for payments. Furthermore, Navient is now reporting to the credit bureaus that I am late. At this point, \\\n",
        "Navient needs to get their act together to avoid me taking further action. I have been enrolled the entire time and my \\\n",
        "deferment should be valid with my planned graduation date being the XX/XX/XXXX.\"\"\"\n",
        "print(model.predict(fitted_vectorizer.transform([new_complaint])))"
      ],
      "execution_count": 62,
      "outputs": [
        {
          "output_type": "stream",
          "text": [
            "['Student loan']\n"
          ],
          "name": "stdout"
        }
      ]
    },
    {
      "cell_type": "code",
      "metadata": {
        "colab": {
          "base_uri": "https://localhost:8080/",
          "height": 80
        },
        "id": "4jBLhwZXmWAj",
        "outputId": "27a551e5-10b3-4725-8879-dec83757e85c"
      },
      "source": [
        "df2[df2['Consumer_Complaint'] == new_complaint]"
      ],
      "execution_count": 64,
      "outputs": [
        {
          "output_type": "execute_result",
          "data": {
            "text/html": [
              "<div>\n",
              "<style scoped>\n",
              "    .dataframe tbody tr th:only-of-type {\n",
              "        vertical-align: middle;\n",
              "    }\n",
              "\n",
              "    .dataframe tbody tr th {\n",
              "        vertical-align: top;\n",
              "    }\n",
              "\n",
              "    .dataframe thead th {\n",
              "        text-align: right;\n",
              "    }\n",
              "</style>\n",
              "<table border=\"1\" class=\"dataframe\">\n",
              "  <thead>\n",
              "    <tr style=\"text-align: right;\">\n",
              "      <th></th>\n",
              "      <th>Product</th>\n",
              "      <th>Consumer_Complaint</th>\n",
              "      <th>category_id</th>\n",
              "    </tr>\n",
              "  </thead>\n",
              "  <tbody>\n",
              "    <tr>\n",
              "      <th>877489</th>\n",
              "      <td>Student loan</td>\n",
              "      <td>I have been enrolled back at XXXX XXXX Univers...</td>\n",
              "      <td>6</td>\n",
              "    </tr>\n",
              "  </tbody>\n",
              "</table>\n",
              "</div>"
            ],
            "text/plain": [
              "             Product  ... category_id\n",
              "877489  Student loan  ...           6\n",
              "\n",
              "[1 rows x 3 columns]"
            ]
          },
          "metadata": {
            "tags": []
          },
          "execution_count": 64
        }
      ]
    },
    {
      "cell_type": "code",
      "metadata": {
        "colab": {
          "base_uri": "https://localhost:8080/"
        },
        "id": "f-JcNHrhmbJQ",
        "outputId": "4733957b-34c6-4c58-fe33-71710ea65351"
      },
      "source": [
        "new_complaint_2 = \"\"\"Equifax exposed my personal information without my consent, as part of their recent data breach. \\\n",
        "In addition, they dragged their feet in the announcement of the report, and even allowed their upper management to sell \\\n",
        "off stock before the announcement.\"\"\"\n",
        "print(model.predict(fitted_vectorizer.transform([new_complaint_2])))"
      ],
      "execution_count": 65,
      "outputs": [
        {
          "output_type": "stream",
          "text": [
            "['Credit reporting, repair, or other']\n"
          ],
          "name": "stdout"
        }
      ]
    },
    {
      "cell_type": "code",
      "metadata": {
        "colab": {
          "base_uri": "https://localhost:8080/",
          "height": 80
        },
        "id": "9JBM_gBZmian",
        "outputId": "7017759e-cc4a-4769-d2d1-c08394a13ba0"
      },
      "source": [
        "df2[df2['Consumer_Complaint'] == new_complaint_2]"
      ],
      "execution_count": 67,
      "outputs": [
        {
          "output_type": "execute_result",
          "data": {
            "text/html": [
              "<div>\n",
              "<style scoped>\n",
              "    .dataframe tbody tr th:only-of-type {\n",
              "        vertical-align: middle;\n",
              "    }\n",
              "\n",
              "    .dataframe tbody tr th {\n",
              "        vertical-align: top;\n",
              "    }\n",
              "\n",
              "    .dataframe thead th {\n",
              "        text-align: right;\n",
              "    }\n",
              "</style>\n",
              "<table border=\"1\" class=\"dataframe\">\n",
              "  <thead>\n",
              "    <tr style=\"text-align: right;\">\n",
              "      <th></th>\n",
              "      <th>Product</th>\n",
              "      <th>Consumer_Complaint</th>\n",
              "      <th>category_id</th>\n",
              "    </tr>\n",
              "  </thead>\n",
              "  <tbody>\n",
              "    <tr>\n",
              "      <th>420821</th>\n",
              "      <td>Credit reporting, repair, or other</td>\n",
              "      <td>Equifax exposed my personal information withou...</td>\n",
              "      <td>0</td>\n",
              "    </tr>\n",
              "  </tbody>\n",
              "</table>\n",
              "</div>"
            ],
            "text/plain": [
              "                                   Product  ... category_id\n",
              "420821  Credit reporting, repair, or other  ...           0\n",
              "\n",
              "[1 rows x 3 columns]"
            ]
          },
          "metadata": {
            "tags": []
          },
          "execution_count": 67
        }
      ]
    },
    {
      "cell_type": "markdown",
      "metadata": {
        "id": "6zole2c4msCk"
      },
      "source": [
        "Again, the algorithm correctly classified the caomplaint as \"Credit reporting, repair, or other\". Note that this customer has used terms with high TFIDF score, such us equifax, report.\n",
        "\n",
        "Although our model is not going to be all the time correct when classifying new complaints, it does a good job."
      ]
    }
  ]
}